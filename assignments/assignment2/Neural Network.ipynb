{
 "cells": [
  {
   "cell_type": "markdown",
   "metadata": {},
   "source": [
    "# Задание 2.1 - Нейронные сети\n",
    "\n",
    "В этом задании вы реализуете и натренируете настоящую нейроную сеть своими руками!\n",
    "\n",
    "В некотором смысле это будет расширением прошлого задания - нам нужно просто составить несколько линейных классификаторов вместе!\n",
    "\n",
    "<img src=\"https://i.redd.it/n9fgba8b0qr01.png\" alt=\"Stack_more_layers\" width=\"400px\"/>"
   ]
  },
  {
   "cell_type": "code",
   "execution_count": 1,
   "metadata": {
    "ExecuteTime": {
     "end_time": "2021-06-12T12:17:10.316556Z",
     "start_time": "2021-06-12T12:17:10.005591Z"
    }
   },
   "outputs": [],
   "source": [
    "import numpy as np\n",
    "import matplotlib.pyplot as plt\n",
    "\n",
    "%matplotlib inline\n",
    "\n",
    "%load_ext autoreload\n",
    "%autoreload 2"
   ]
  },
  {
   "cell_type": "code",
   "execution_count": 2,
   "metadata": {
    "ExecuteTime": {
     "end_time": "2021-06-12T12:17:11.023658Z",
     "start_time": "2021-06-12T12:17:10.983308Z"
    }
   },
   "outputs": [],
   "source": [
    "from dataset import load_svhn, random_split_train_val\n",
    "from gradient_check import check_layer_gradient, check_layer_param_gradient, check_model_gradient\n",
    "from layers import FullyConnectedLayer, ReLULayer\n",
    "from model import TwoLayerNet\n",
    "from trainer import Trainer, Dataset\n",
    "from optim import SGD, MomentumSGD\n",
    "from metrics import multiclass_accuracy"
   ]
  },
  {
   "cell_type": "markdown",
   "metadata": {},
   "source": [
    "# Загружаем данные\n",
    "\n",
    "И разделяем их на training и validation."
   ]
  },
  {
   "cell_type": "code",
   "execution_count": 3,
   "metadata": {
    "ExecuteTime": {
     "end_time": "2021-06-12T12:17:14.507710Z",
     "start_time": "2021-06-12T12:17:12.432578Z"
    }
   },
   "outputs": [],
   "source": [
    "def prepare_for_neural_network(train_X, test_X):\n",
    "    train_flat = train_X.reshape(train_X.shape[0], -1).astype(float) / 255.0\n",
    "    test_flat = test_X.reshape(test_X.shape[0], -1).astype(float) / 255.0\n",
    "    \n",
    "    # Subtract mean\n",
    "    mean_image = np.mean(train_flat, axis = 0)\n",
    "    train_flat -= mean_image\n",
    "    test_flat -= mean_image\n",
    "    \n",
    "    return train_flat, test_flat\n",
    "    \n",
    "train_X, train_y, test_X, test_y = load_svhn(\"data\", max_train=10000, max_test=1000)    \n",
    "train_X, test_X = prepare_for_neural_network(train_X, test_X)\n",
    "# Split train into train and val\n",
    "train_X, train_y, val_X, val_y = random_split_train_val(train_X, train_y, num_val = 1000)"
   ]
  },
  {
   "cell_type": "markdown",
   "metadata": {},
   "source": [
    "# Как всегда, начинаем с кирпичиков\n",
    "\n",
    "Мы будем реализовывать необходимые нам слои по очереди. Каждый слой должен реализовать:\n",
    "- прямой проход (forward pass), который генерирует выход слоя по входу и запоминает необходимые данные\n",
    "- обратный проход (backward pass), который получает градиент по выходу слоя и вычисляет градиент по входу и по параметрам\n",
    "\n",
    "Начнем с ReLU, у которого параметров нет."
   ]
  },
  {
   "cell_type": "code",
   "execution_count": 5,
   "metadata": {
    "ExecuteTime": {
     "end_time": "2021-06-12T12:17:17.134119Z",
     "start_time": "2021-06-12T12:17:17.116184Z"
    },
    "scrolled": false
   },
   "outputs": [
    {
     "name": "stdout",
     "output_type": "stream",
     "text": [
      "Gradient check passed!\n"
     ]
    }
   ],
   "source": [
    "# TODO: Implement ReLULayer layer in layers.py\n",
    "# Note: you'll need to copy implementation of the gradient_check function from the previous assignment\n",
    "\n",
    "X = np.array([[1,-2,3],\n",
    "              [-1, 2, 0.1]\n",
    "              ])\n",
    "\n",
    "assert check_layer_gradient(ReLULayer(), X)"
   ]
  },
  {
   "cell_type": "markdown",
   "metadata": {},
   "source": [
    "А теперь реализуем полносвязный слой (fully connected layer), у которого будет два массива параметров: W (weights) и B (bias).\n",
    "\n",
    "Все параметры наши слои будут использовать для параметров специальный класс `Param`, в котором будут храниться значения параметров и градиенты этих параметров, вычисляемые во время обратного прохода.\n",
    "\n",
    "Это даст возможность аккумулировать (суммировать) градиенты из разных частей функции потерь, например, из cross-entropy loss и regularization loss."
   ]
  },
  {
   "cell_type": "code",
   "execution_count": 6,
   "metadata": {
    "ExecuteTime": {
     "end_time": "2021-06-12T12:17:18.341034Z",
     "start_time": "2021-06-12T12:17:18.324124Z"
    }
   },
   "outputs": [
    {
     "name": "stdout",
     "output_type": "stream",
     "text": [
      "Gradient check passed!\n",
      "Gradient check passed!\n",
      "Gradient check passed!\n"
     ]
    }
   ],
   "source": [
    "# TODO: Implement FullyConnected layer forward and backward methods\n",
    "assert check_layer_gradient(FullyConnectedLayer(3, 4), X)\n",
    "# TODO: Implement storing gradients for W and B\n",
    "assert check_layer_param_gradient(FullyConnectedLayer(3, 4), X, 'W')\n",
    "assert check_layer_param_gradient(FullyConnectedLayer(3, 4), X, 'B')"
   ]
  },
  {
   "cell_type": "markdown",
   "metadata": {},
   "source": [
    "## Создаем нейронную сеть\n",
    "\n",
    "Теперь мы реализуем простейшую нейронную сеть с двумя полносвязным слоями и нелинейностью ReLU. Реализуйте функцию `compute_loss_and_gradients`, она должна запустить прямой и обратный проход через оба слоя для вычисления градиентов.\n",
    "\n",
    "Не забудьте реализовать очистку градиентов в начале функции."
   ]
  },
  {
   "cell_type": "code",
   "execution_count": 7,
   "metadata": {
    "ExecuteTime": {
     "end_time": "2021-06-12T12:17:23.330829Z",
     "start_time": "2021-06-12T12:17:20.697944Z"
    }
   },
   "outputs": [
    {
     "name": "stdout",
     "output_type": "stream",
     "text": [
      "Checking gradient for 1-layer W\n",
      "Gradient check passed!\n",
      "Checking gradient for 1-layer B\n",
      "Gradient check passed!\n",
      "Checking gradient for 3-layer W\n",
      "Gradient check passed!\n",
      "Checking gradient for 3-layer B\n",
      "Gradient check passed!\n"
     ]
    },
    {
     "data": {
      "text/plain": [
       "True"
      ]
     },
     "execution_count": 7,
     "metadata": {},
     "output_type": "execute_result"
    }
   ],
   "source": [
    "# TODO: In model.py, implement compute_loss_and_gradients function\n",
    "model = TwoLayerNet(n_input = train_X.shape[1], n_output = 10, hidden_layer_size = 3, reg = 0)\n",
    "loss = model.compute_loss_and_gradients(train_X[:2], train_y[:2])\n",
    "\n",
    "# TODO Now implement backward pass and aggregate all of the params\n",
    "check_model_gradient(model, train_X[:2], train_y[:2])"
   ]
  },
  {
   "cell_type": "markdown",
   "metadata": {},
   "source": [
    "Теперь добавьте к модели регуляризацию - она должна прибавляться к loss и делать свой вклад в градиенты."
   ]
  },
  {
   "cell_type": "code",
   "execution_count": 8,
   "metadata": {
    "ExecuteTime": {
     "end_time": "2021-06-12T12:17:28.109245Z",
     "start_time": "2021-06-12T12:17:25.385874Z"
    }
   },
   "outputs": [
    {
     "name": "stdout",
     "output_type": "stream",
     "text": [
      "Checking gradient for 1-layer W\n",
      "Gradient check passed!\n",
      "Checking gradient for 1-layer B\n",
      "Gradient check passed!\n",
      "Checking gradient for 3-layer W\n",
      "Gradient check passed!\n",
      "Checking gradient for 3-layer B\n",
      "Gradient check passed!\n"
     ]
    },
    {
     "data": {
      "text/plain": [
       "True"
      ]
     },
     "execution_count": 8,
     "metadata": {},
     "output_type": "execute_result"
    }
   ],
   "source": [
    "# TODO Now implement l2 regularization in the forward and backward pass\n",
    "model_with_reg = TwoLayerNet(n_input = train_X.shape[1], n_output = 10, hidden_layer_size = 3, reg = 1e1)\n",
    "loss_with_reg = model_with_reg.compute_loss_and_gradients(train_X[:2], train_y[:2])\n",
    "assert loss_with_reg > loss and not np.isclose(loss_with_reg, loss), \\\n",
    "    \"Loss with regularization (%2.4f) should be higher than without it (%2.4f)!\" % (loss, loss_with_reg)\n",
    "\n",
    "check_model_gradient(model_with_reg, train_X[:2], train_y[:2])"
   ]
  },
  {
   "cell_type": "markdown",
   "metadata": {},
   "source": [
    "Также реализуем функцию предсказания (вычисления значения) модели на новых данных.\n",
    "\n",
    "Какое значение точности мы ожидаем увидеть до начала тренировки?"
   ]
  },
  {
   "cell_type": "code",
   "execution_count": 9,
   "metadata": {
    "ExecuteTime": {
     "end_time": "2021-06-12T12:17:31.408691Z",
     "start_time": "2021-06-12T12:17:31.393885Z"
    }
   },
   "outputs": [
    {
     "data": {
      "text/plain": [
       "0.03333333333333333"
      ]
     },
     "execution_count": 9,
     "metadata": {},
     "output_type": "execute_result"
    }
   ],
   "source": [
    "# Finally, implement predict function!\n",
    "\n",
    "# TODO: Implement predict function\n",
    "# What would be the value we expect?\n",
    "multiclass_accuracy(model_with_reg.predict(train_X[:30]), train_y[:30]) "
   ]
  },
  {
   "cell_type": "markdown",
   "metadata": {},
   "source": [
    "# Допишем код для процесса тренировки\n",
    "\n",
    "Если все реализовано корректно, значение функции ошибки должно уменьшаться с каждой эпохой, пусть и медленно. Не беспокойтесь пока про validation accuracy."
   ]
  },
  {
   "cell_type": "code",
   "execution_count": 16,
   "metadata": {
    "ExecuteTime": {
     "end_time": "2021-06-12T12:26:25.140440Z",
     "start_time": "2021-06-12T12:25:46.899398Z"
    }
   },
   "outputs": [
    {
     "name": "stdout",
     "output_type": "stream",
     "text": [
      "Loss: 2.274774, Train accuracy: 0.196667, val accuracy: 0.206000\n",
      "Loss: 2.243732, Train accuracy: 0.196667, val accuracy: 0.206000\n",
      "Loss: 2.232188, Train accuracy: 0.196667, val accuracy: 0.206000\n",
      "Loss: 2.227860, Train accuracy: 0.196667, val accuracy: 0.206000\n",
      "Loss: 2.225036, Train accuracy: 0.196667, val accuracy: 0.206000\n",
      "Loss: 2.220233, Train accuracy: 0.196667, val accuracy: 0.206000\n",
      "Loss: 2.208220, Train accuracy: 0.196667, val accuracy: 0.206000\n",
      "Loss: 2.185030, Train accuracy: 0.196667, val accuracy: 0.206000\n",
      "Loss: 2.155611, Train accuracy: 0.209778, val accuracy: 0.218000\n",
      "Loss: 2.124790, Train accuracy: 0.239667, val accuracy: 0.240000\n",
      "Loss: 2.092044, Train accuracy: 0.263667, val accuracy: 0.259000\n",
      "Loss: 2.052255, Train accuracy: 0.268667, val accuracy: 0.272000\n",
      "Loss: 2.002428, Train accuracy: 0.296778, val accuracy: 0.302000\n",
      "Loss: 1.942131, Train accuracy: 0.323778, val accuracy: 0.323000\n",
      "Loss: 1.876229, Train accuracy: 0.348778, val accuracy: 0.355000\n",
      "Loss: 1.807530, Train accuracy: 0.382778, val accuracy: 0.385000\n",
      "Loss: 1.740335, Train accuracy: 0.413111, val accuracy: 0.402000\n",
      "Loss: 1.678208, Train accuracy: 0.447444, val accuracy: 0.436000\n",
      "Loss: 1.620248, Train accuracy: 0.466444, val accuracy: 0.449000\n",
      "Loss: 1.568104, Train accuracy: 0.488444, val accuracy: 0.473000\n"
     ]
    }
   ],
   "source": [
    "model = TwoLayerNet(n_input = train_X.shape[1], n_output = 10, hidden_layer_size = 100, reg = 1e1)\n",
    "dataset = Dataset(train_X, train_y, val_X, val_y)\n",
    "trainer = Trainer(model, dataset, SGD(), learning_rate = 1e-2)\n",
    "\n",
    "# TODO Implement missing pieces in Trainer.fit function\n",
    "# You should expect loss to go down every epoch, even if it's slow\n",
    "loss_history, train_history, val_history = trainer.fit()"
   ]
  },
  {
   "cell_type": "code",
   "execution_count": 17,
   "metadata": {
    "ExecuteTime": {
     "end_time": "2021-06-12T12:27:43.591200Z",
     "start_time": "2021-06-12T12:27:43.446825Z"
    }
   },
   "outputs": [
    {
     "data": {
      "text/plain": [
       "[<matplotlib.lines.Line2D at 0x7fad06b346d0>]"
      ]
     },
     "execution_count": 17,
     "metadata": {},
     "output_type": "execute_result"
    },
    {
     "data": {
      "image/png": "[encoded data removed]",
      "text/plain": [
       "<Figure size 432x288 with 1 Axes>"
      ]
     },
     "metadata": {
      "needs_background": "light"
     },
     "output_type": "display_data"
    }
   ],
   "source": [
    "plt.plot(train_history)\n",
    "plt.plot(val_history)"
   ]
  },
  {
   "cell_type": "markdown",
   "metadata": {},
   "source": [
    "# Улучшаем процесс тренировки\n",
    "\n",
    "Мы реализуем несколько ключевых оптимизаций, необходимых для тренировки современных нейросетей."
   ]
  },
  {
   "cell_type": "markdown",
   "metadata": {},
   "source": [
    "## Уменьшение скорости обучения (learning rate decay)\n",
    "\n",
    "Одна из необходимых оптимизаций во время тренировки нейронных сетей - постепенное уменьшение скорости обучения по мере тренировки.\n",
    "\n",
    "Один из стандартных методов - уменьшение скорости обучения (learning rate) каждые N эпох на коэффициент d (часто называемый decay). Значения N и d, как всегда, являются гиперпараметрами и должны подбираться на основе эффективности на проверочных данных (validation data). \n",
    "\n",
    "В нашем случае N будет равным 1."
   ]
  },
  {
   "cell_type": "code",
   "execution_count": 18,
   "metadata": {
    "ExecuteTime": {
     "end_time": "2021-06-12T12:28:24.561915Z",
     "start_time": "2021-06-12T12:27:50.261737Z"
    }
   },
   "outputs": [
    {
     "name": "stdout",
     "output_type": "stream",
     "text": [
      "Loss: 2.274888, Train accuracy: 0.196667, val accuracy: 0.206000\n",
      "Loss: 2.244074, Train accuracy: 0.196667, val accuracy: 0.206000\n",
      "Loss: 2.232552, Train accuracy: 0.196667, val accuracy: 0.206000\n",
      "Loss: 2.228073, Train accuracy: 0.196667, val accuracy: 0.206000\n",
      "Loss: 2.225575, Train accuracy: 0.196667, val accuracy: 0.206000\n",
      "Loss: 2.221785, Train accuracy: 0.196667, val accuracy: 0.206000\n",
      "Loss: 2.212894, Train accuracy: 0.196667, val accuracy: 0.206000\n",
      "Loss: 2.194183, Train accuracy: 0.196667, val accuracy: 0.206000\n",
      "Loss: 2.167735, Train accuracy: 0.207667, val accuracy: 0.218000\n",
      "Loss: 2.137783, Train accuracy: 0.234778, val accuracy: 0.233000\n",
      "Loss: 2.106258, Train accuracy: 0.259667, val accuracy: 0.263000\n",
      "Loss: 2.072079, Train accuracy: 0.272333, val accuracy: 0.273000\n",
      "Loss: 2.035329, Train accuracy: 0.277778, val accuracy: 0.279000\n",
      "Loss: 1.996445, Train accuracy: 0.279556, val accuracy: 0.286000\n",
      "Loss: 1.952192, Train accuracy: 0.306889, val accuracy: 0.311000\n",
      "Loss: 1.901588, Train accuracy: 0.337111, val accuracy: 0.337000\n",
      "Loss: 1.845050, Train accuracy: 0.368111, val accuracy: 0.366000\n",
      "Loss: 1.787422, Train accuracy: 0.393222, val accuracy: 0.383000\n",
      "Loss: 1.730360, Train accuracy: 0.416556, val accuracy: 0.400000\n",
      "Loss: 1.677737, Train accuracy: 0.437000, val accuracy: 0.418000\n"
     ]
    }
   ],
   "source": [
    "# TODO Implement learning rate decay inside Trainer.fit method\n",
    "# Decay should happen once per epoch\n",
    "\n",
    "model = TwoLayerNet(n_input = train_X.shape[1], n_output = 10, hidden_layer_size = 100, reg = 1e-1)\n",
    "dataset = Dataset(train_X, train_y, val_X, val_y)\n",
    "trainer = Trainer(model, dataset, SGD(), learning_rate_decay=0.99)\n",
    "\n",
    "initial_learning_rate = trainer.learning_rate\n",
    "loss_history, train_history, val_history = trainer.fit()\n",
    "\n",
    "assert trainer.learning_rate < initial_learning_rate, \"Learning rate should've been reduced\"\n",
    "assert trainer.learning_rate > 0.5*initial_learning_rate, \"Learning rate shouldn'tve been reduced that much!\""
   ]
  },
  {
   "cell_type": "code",
   "execution_count": 19,
   "metadata": {
    "ExecuteTime": {
     "end_time": "2021-06-12T12:28:48.940894Z",
     "start_time": "2021-06-12T12:28:48.809388Z"
    }
   },
   "outputs": [
    {
     "data": {
      "text/plain": [
       "[<matplotlib.lines.Line2D at 0x7fad06abefd0>]"
      ]
     },
     "execution_count": 19,
     "metadata": {},
     "output_type": "execute_result"
    },
    {
     "data": {
      "image/png": "[encoded data removed]",
      "text/plain": [
       "<Figure size 432x288 with 1 Axes>"
      ]
     },
     "metadata": {
      "needs_background": "light"
     },
     "output_type": "display_data"
    }
   ],
   "source": [
    "plt.plot(train_history)\n",
    "plt.plot(val_history)"
   ]
  },
  {
   "cell_type": "markdown",
   "metadata": {},
   "source": [
    "# Накопление импульса (Momentum SGD)\n",
    "\n",
    "Другой большой класс оптимизаций - использование более эффективных методов градиентного спуска. Мы реализуем один из них - накопление импульса (Momentum SGD).\n",
    "\n",
    "Этот метод хранит скорость движения, использует градиент для ее изменения на каждом шаге, и изменяет веса пропорционально значению скорости.\n",
    "(Физическая аналогия: Вместо скорости градиенты теперь будут задавать ускорение, но будет присутствовать сила трения.)\n",
    "\n",
    "```\n",
    "velocity = momentum * velocity - learning_rate * gradient \n",
    "w = w + velocity\n",
    "```\n",
    "\n",
    "`momentum` здесь коэффициент затухания, который тоже является гиперпараметром (к счастью, для него часто есть хорошее значение по умолчанию, типичный диапазон -- 0.8-0.99).\n",
    "\n",
    "Несколько полезных ссылок, где метод разбирается более подробно:  \n",
    "http://cs231n.github.io/neural-networks-3/#sgd  \n",
    "https://distill.pub/2017/momentum/"
   ]
  },
  {
   "cell_type": "code",
   "execution_count": 20,
   "metadata": {
    "ExecuteTime": {
     "end_time": "2021-06-12T12:34:21.781560Z",
     "start_time": "2021-06-12T12:33:39.815673Z"
    }
   },
   "outputs": [
    {
     "name": "stdout",
     "output_type": "stream",
     "text": [
      "Loss: 2.298959, Train accuracy: 0.196667, val accuracy: 0.206000\n",
      "Loss: 2.292121, Train accuracy: 0.196667, val accuracy: 0.206000\n",
      "Loss: 2.285941, Train accuracy: 0.196667, val accuracy: 0.206000\n",
      "Loss: 2.280365, Train accuracy: 0.196667, val accuracy: 0.206000\n",
      "Loss: 2.275341, Train accuracy: 0.196667, val accuracy: 0.206000\n",
      "Loss: 2.270811, Train accuracy: 0.196667, val accuracy: 0.206000\n",
      "Loss: 2.266725, Train accuracy: 0.196667, val accuracy: 0.206000\n",
      "Loss: 2.263044, Train accuracy: 0.196667, val accuracy: 0.206000\n",
      "Loss: 2.259722, Train accuracy: 0.196667, val accuracy: 0.206000\n",
      "Loss: 2.256725, Train accuracy: 0.196667, val accuracy: 0.206000\n",
      "Loss: 2.254021, Train accuracy: 0.196667, val accuracy: 0.206000\n",
      "Loss: 2.251577, Train accuracy: 0.196667, val accuracy: 0.206000\n",
      "Loss: 2.249363, Train accuracy: 0.196667, val accuracy: 0.206000\n",
      "Loss: 2.247362, Train accuracy: 0.196667, val accuracy: 0.206000\n",
      "Loss: 2.245549, Train accuracy: 0.196667, val accuracy: 0.206000\n",
      "Loss: 2.243902, Train accuracy: 0.196667, val accuracy: 0.206000\n",
      "Loss: 2.242405, Train accuracy: 0.196667, val accuracy: 0.206000\n",
      "Loss: 2.241047, Train accuracy: 0.196667, val accuracy: 0.206000\n",
      "Loss: 2.239804, Train accuracy: 0.196667, val accuracy: 0.206000\n",
      "Loss: 2.238676, Train accuracy: 0.196667, val accuracy: 0.206000\n"
     ]
    }
   ],
   "source": [
    "# TODO: Implement MomentumSGD.update function in optim.py\n",
    "\n",
    "model = TwoLayerNet(n_input = train_X.shape[1], n_output = 10, hidden_layer_size = 100, reg = 1e-1)\n",
    "dataset = Dataset(train_X, train_y, val_X, val_y)\n",
    "trainer = Trainer(model, dataset, MomentumSGD(), learning_rate=1e-4, learning_rate_decay=0.99)\n",
    "\n",
    "# You should see even better results than before!\n",
    "loss_history, train_history, val_history = trainer.fit()"
   ]
  },
  {
   "cell_type": "markdown",
   "metadata": {},
   "source": [
    "# Ну что, давайте уже тренировать сеть!"
   ]
  },
  {
   "cell_type": "markdown",
   "metadata": {},
   "source": [
    "## Последний тест - переобучимся (overfit) на маленьком наборе данных\n",
    "\n",
    "Хороший способ проверить, все ли реализовано корректно - переобучить сеть на маленьком наборе данных.  \n",
    "Наша модель обладает достаточной мощностью, чтобы приблизить маленький набор данных идеально, поэтому мы ожидаем, что на нем мы быстро дойдем до 100% точности на тренировочном наборе. \n",
    "\n",
    "Если этого не происходит, то где-то была допущена ошибка!"
   ]
  },
  {
   "cell_type": "code",
   "execution_count": 21,
   "metadata": {
    "ExecuteTime": {
     "end_time": "2021-06-12T12:34:54.938409Z",
     "start_time": "2021-06-12T12:34:53.425789Z"
    }
   },
   "outputs": [
    {
     "name": "stdout",
     "output_type": "stream",
     "text": [
      "Loss: 2.306291, Train accuracy: 0.200000, val accuracy: 0.133333\n",
      "Loss: 2.295084, Train accuracy: 0.200000, val accuracy: 0.133333\n",
      "Loss: 2.283077, Train accuracy: 0.200000, val accuracy: 0.133333\n",
      "Loss: 2.272421, Train accuracy: 0.200000, val accuracy: 0.133333\n",
      "Loss: 2.259097, Train accuracy: 0.200000, val accuracy: 0.133333\n",
      "Loss: 2.246023, Train accuracy: 0.266667, val accuracy: 0.000000\n",
      "Loss: 2.229421, Train accuracy: 0.266667, val accuracy: 0.000000\n",
      "Loss: 2.181217, Train accuracy: 0.400000, val accuracy: 0.000000\n",
      "Loss: 2.087211, Train accuracy: 0.400000, val accuracy: 0.000000\n",
      "Loss: 1.988657, Train accuracy: 0.400000, val accuracy: 0.000000\n",
      "Loss: 1.889978, Train accuracy: 0.400000, val accuracy: 0.000000\n",
      "Loss: 1.793647, Train accuracy: 0.333333, val accuracy: 0.000000\n",
      "Loss: 1.739083, Train accuracy: 0.400000, val accuracy: 0.000000\n",
      "Loss: 1.702580, Train accuracy: 0.400000, val accuracy: 0.000000\n",
      "Loss: 1.594376, Train accuracy: 0.400000, val accuracy: 0.000000\n",
      "Loss: 1.661862, Train accuracy: 0.400000, val accuracy: 0.000000\n",
      "Loss: 1.562968, Train accuracy: 0.400000, val accuracy: 0.000000\n",
      "Loss: 1.498555, Train accuracy: 0.466667, val accuracy: 0.000000\n",
      "Loss: 1.490078, Train accuracy: 0.466667, val accuracy: 0.066667\n",
      "Loss: 1.435668, Train accuracy: 0.466667, val accuracy: 0.066667\n",
      "Loss: 1.406688, Train accuracy: 0.466667, val accuracy: 0.066667\n",
      "Loss: 1.391169, Train accuracy: 0.533333, val accuracy: 0.000000\n",
      "Loss: 1.360736, Train accuracy: 0.666667, val accuracy: 0.000000\n",
      "Loss: 1.259216, Train accuracy: 0.666667, val accuracy: 0.000000\n",
      "Loss: 1.183437, Train accuracy: 0.666667, val accuracy: 0.066667\n",
      "Loss: 1.141541, Train accuracy: 0.666667, val accuracy: 0.066667\n",
      "Loss: 1.088804, Train accuracy: 0.666667, val accuracy: 0.066667\n",
      "Loss: 0.997943, Train accuracy: 0.666667, val accuracy: 0.066667\n",
      "Loss: 0.958119, Train accuracy: 0.733333, val accuracy: 0.066667\n",
      "Loss: 0.913828, Train accuracy: 0.800000, val accuracy: 0.133333\n",
      "Loss: 0.860647, Train accuracy: 0.800000, val accuracy: 0.133333\n",
      "Loss: 0.795817, Train accuracy: 0.800000, val accuracy: 0.066667\n",
      "Loss: 0.768337, Train accuracy: 0.800000, val accuracy: 0.066667\n",
      "Loss: 0.717629, Train accuracy: 0.800000, val accuracy: 0.066667\n",
      "Loss: 0.679814, Train accuracy: 0.800000, val accuracy: 0.066667\n",
      "Loss: 0.645804, Train accuracy: 0.800000, val accuracy: 0.066667\n",
      "Loss: 0.612257, Train accuracy: 0.800000, val accuracy: 0.066667\n",
      "Loss: 0.586891, Train accuracy: 0.800000, val accuracy: 0.066667\n",
      "Loss: 0.571777, Train accuracy: 0.800000, val accuracy: 0.066667\n",
      "Loss: 0.543767, Train accuracy: 0.800000, val accuracy: 0.066667\n",
      "Loss: 0.519400, Train accuracy: 0.800000, val accuracy: 0.066667\n",
      "Loss: 0.508581, Train accuracy: 0.800000, val accuracy: 0.066667\n",
      "Loss: 0.487207, Train accuracy: 0.800000, val accuracy: 0.066667\n",
      "Loss: 0.459248, Train accuracy: 0.866667, val accuracy: 0.066667\n",
      "Loss: 0.434394, Train accuracy: 0.933333, val accuracy: 0.066667\n",
      "Loss: 0.415551, Train accuracy: 0.933333, val accuracy: 0.066667\n",
      "Loss: 0.387288, Train accuracy: 1.000000, val accuracy: 0.066667\n",
      "Loss: 0.366608, Train accuracy: 1.000000, val accuracy: 0.066667\n",
      "Loss: 0.328900, Train accuracy: 1.000000, val accuracy: 0.066667\n",
      "Loss: 0.302050, Train accuracy: 1.000000, val accuracy: 0.066667\n",
      "Loss: 0.273738, Train accuracy: 1.000000, val accuracy: 0.066667\n",
      "Loss: 0.240482, Train accuracy: 1.000000, val accuracy: 0.066667\n",
      "Loss: 0.218721, Train accuracy: 1.000000, val accuracy: 0.066667\n",
      "Loss: 0.191890, Train accuracy: 1.000000, val accuracy: 0.066667\n",
      "Loss: 0.164133, Train accuracy: 1.000000, val accuracy: 0.066667\n",
      "Loss: 0.145028, Train accuracy: 1.000000, val accuracy: 0.066667\n",
      "Loss: 0.125242, Train accuracy: 1.000000, val accuracy: 0.066667\n",
      "Loss: 0.109723, Train accuracy: 1.000000, val accuracy: 0.066667\n",
      "Loss: 0.096606, Train accuracy: 1.000000, val accuracy: 0.066667\n",
      "Loss: 0.087713, Train accuracy: 1.000000, val accuracy: 0.000000\n",
      "Loss: 0.080240, Train accuracy: 1.000000, val accuracy: 0.000000\n",
      "Loss: 0.070847, Train accuracy: 1.000000, val accuracy: 0.000000\n",
      "Loss: 0.065038, Train accuracy: 1.000000, val accuracy: 0.000000\n",
      "Loss: 0.060188, Train accuracy: 1.000000, val accuracy: 0.000000\n",
      "Loss: 0.055494, Train accuracy: 1.000000, val accuracy: 0.000000\n",
      "Loss: 0.052005, Train accuracy: 1.000000, val accuracy: 0.000000\n",
      "Loss: 0.047570, Train accuracy: 1.000000, val accuracy: 0.000000\n",
      "Loss: 0.044551, Train accuracy: 1.000000, val accuracy: 0.000000\n",
      "Loss: 0.042801, Train accuracy: 1.000000, val accuracy: 0.000000\n",
      "Loss: 0.039795, Train accuracy: 1.000000, val accuracy: 0.000000\n",
      "Loss: 0.037619, Train accuracy: 1.000000, val accuracy: 0.000000\n",
      "Loss: 0.035065, Train accuracy: 1.000000, val accuracy: 0.000000\n",
      "Loss: 0.033367, Train accuracy: 1.000000, val accuracy: 0.000000\n",
      "Loss: 0.031892, Train accuracy: 1.000000, val accuracy: 0.000000\n",
      "Loss: 0.030213, Train accuracy: 1.000000, val accuracy: 0.000000\n",
      "Loss: 0.028828, Train accuracy: 1.000000, val accuracy: 0.000000\n",
      "Loss: 0.027792, Train accuracy: 1.000000, val accuracy: 0.000000\n",
      "Loss: 0.026721, Train accuracy: 1.000000, val accuracy: 0.000000\n",
      "Loss: 0.025487, Train accuracy: 1.000000, val accuracy: 0.000000\n",
      "Loss: 0.024277, Train accuracy: 1.000000, val accuracy: 0.000000\n",
      "Loss: 0.023283, Train accuracy: 1.000000, val accuracy: 0.000000\n",
      "Loss: 0.022697, Train accuracy: 1.000000, val accuracy: 0.000000\n",
      "Loss: 0.021620, Train accuracy: 1.000000, val accuracy: 0.000000\n",
      "Loss: 0.021025, Train accuracy: 1.000000, val accuracy: 0.000000\n",
      "Loss: 0.020316, Train accuracy: 1.000000, val accuracy: 0.000000\n",
      "Loss: 0.019713, Train accuracy: 1.000000, val accuracy: 0.000000\n",
      "Loss: 0.018965, Train accuracy: 1.000000, val accuracy: 0.000000\n",
      "Loss: 0.018275, Train accuracy: 1.000000, val accuracy: 0.000000\n",
      "Loss: 0.017828, Train accuracy: 1.000000, val accuracy: 0.000000\n",
      "Loss: 0.017179, Train accuracy: 1.000000, val accuracy: 0.000000\n",
      "Loss: 0.016641, Train accuracy: 1.000000, val accuracy: 0.000000\n",
      "Loss: 0.016305, Train accuracy: 1.000000, val accuracy: 0.000000\n",
      "Loss: 0.015688, Train accuracy: 1.000000, val accuracy: 0.000000\n",
      "Loss: 0.015284, Train accuracy: 1.000000, val accuracy: 0.000000\n",
      "Loss: 0.014919, Train accuracy: 1.000000, val accuracy: 0.000000\n",
      "Loss: 0.014480, Train accuracy: 1.000000, val accuracy: 0.000000\n",
      "Loss: 0.014136, Train accuracy: 1.000000, val accuracy: 0.000000\n",
      "Loss: 0.013731, Train accuracy: 1.000000, val accuracy: 0.000000\n",
      "Loss: 0.013379, Train accuracy: 1.000000, val accuracy: 0.000000\n",
      "Loss: 0.013061, Train accuracy: 1.000000, val accuracy: 0.000000\n",
      "Loss: 0.012799, Train accuracy: 1.000000, val accuracy: 0.000000\n",
      "Loss: 0.012485, Train accuracy: 1.000000, val accuracy: 0.000000\n",
      "Loss: 0.012229, Train accuracy: 1.000000, val accuracy: 0.000000\n",
      "Loss: 0.011947, Train accuracy: 1.000000, val accuracy: 0.000000\n",
      "Loss: 0.011635, Train accuracy: 1.000000, val accuracy: 0.000000\n",
      "Loss: 0.011395, Train accuracy: 1.000000, val accuracy: 0.000000\n",
      "Loss: 0.011185, Train accuracy: 1.000000, val accuracy: 0.000000\n",
      "Loss: 0.010901, Train accuracy: 1.000000, val accuracy: 0.000000\n",
      "Loss: 0.010731, Train accuracy: 1.000000, val accuracy: 0.000000\n",
      "Loss: 0.010469, Train accuracy: 1.000000, val accuracy: 0.000000\n",
      "Loss: 0.010245, Train accuracy: 1.000000, val accuracy: 0.000000\n",
      "Loss: 0.010048, Train accuracy: 1.000000, val accuracy: 0.000000\n",
      "Loss: 0.009863, Train accuracy: 1.000000, val accuracy: 0.000000\n",
      "Loss: 0.009705, Train accuracy: 1.000000, val accuracy: 0.000000\n",
      "Loss: 0.009507, Train accuracy: 1.000000, val accuracy: 0.000000\n",
      "Loss: 0.009317, Train accuracy: 1.000000, val accuracy: 0.000000\n",
      "Loss: 0.009207, Train accuracy: 1.000000, val accuracy: 0.000000\n",
      "Loss: 0.009011, Train accuracy: 1.000000, val accuracy: 0.000000\n",
      "Loss: 0.008878, Train accuracy: 1.000000, val accuracy: 0.000000\n",
      "Loss: 0.008672, Train accuracy: 1.000000, val accuracy: 0.000000\n",
      "Loss: 0.008551, Train accuracy: 1.000000, val accuracy: 0.000000\n",
      "Loss: 0.008375, Train accuracy: 1.000000, val accuracy: 0.000000\n",
      "Loss: 0.008263, Train accuracy: 1.000000, val accuracy: 0.000000\n",
      "Loss: 0.008122, Train accuracy: 1.000000, val accuracy: 0.000000\n",
      "Loss: 0.008000, Train accuracy: 1.000000, val accuracy: 0.000000\n",
      "Loss: 0.007860, Train accuracy: 1.000000, val accuracy: 0.000000\n",
      "Loss: 0.007729, Train accuracy: 1.000000, val accuracy: 0.000000\n",
      "Loss: 0.007640, Train accuracy: 1.000000, val accuracy: 0.000000\n",
      "Loss: 0.007492, Train accuracy: 1.000000, val accuracy: 0.000000\n",
      "Loss: 0.007368, Train accuracy: 1.000000, val accuracy: 0.000000\n",
      "Loss: 0.007283, Train accuracy: 1.000000, val accuracy: 0.000000\n",
      "Loss: 0.007183, Train accuracy: 1.000000, val accuracy: 0.000000\n",
      "Loss: 0.007069, Train accuracy: 1.000000, val accuracy: 0.000000\n",
      "Loss: 0.006948, Train accuracy: 1.000000, val accuracy: 0.000000\n",
      "Loss: 0.006869, Train accuracy: 1.000000, val accuracy: 0.000000\n"
     ]
    },
    {
     "name": "stdout",
     "output_type": "stream",
     "text": [
      "Loss: 0.006779, Train accuracy: 1.000000, val accuracy: 0.000000\n",
      "Loss: 0.006683, Train accuracy: 1.000000, val accuracy: 0.000000\n",
      "Loss: 0.006572, Train accuracy: 1.000000, val accuracy: 0.000000\n",
      "Loss: 0.006497, Train accuracy: 1.000000, val accuracy: 0.000000\n",
      "Loss: 0.006408, Train accuracy: 1.000000, val accuracy: 0.000000\n",
      "Loss: 0.006324, Train accuracy: 1.000000, val accuracy: 0.000000\n",
      "Loss: 0.006233, Train accuracy: 1.000000, val accuracy: 0.000000\n",
      "Loss: 0.006159, Train accuracy: 1.000000, val accuracy: 0.000000\n",
      "Loss: 0.006086, Train accuracy: 1.000000, val accuracy: 0.000000\n",
      "Loss: 0.006007, Train accuracy: 1.000000, val accuracy: 0.000000\n",
      "Loss: 0.005929, Train accuracy: 1.000000, val accuracy: 0.000000\n",
      "Loss: 0.005842, Train accuracy: 1.000000, val accuracy: 0.000000\n",
      "Loss: 0.005775, Train accuracy: 1.000000, val accuracy: 0.000000\n",
      "Loss: 0.005701, Train accuracy: 1.000000, val accuracy: 0.000000\n",
      "Loss: 0.005635, Train accuracy: 1.000000, val accuracy: 0.000000\n"
     ]
    }
   ],
   "source": [
    "data_size = 15\n",
    "model = TwoLayerNet(n_input = train_X.shape[1], n_output = 10, hidden_layer_size = 100, reg = 1e-1)\n",
    "dataset = Dataset(train_X[:data_size], train_y[:data_size], val_X[:data_size], val_y[:data_size])\n",
    "trainer = Trainer(model, dataset, SGD(), learning_rate=1e-1, num_epochs=150, batch_size=5)\n",
    "\n",
    "# You should expect this to reach 1.0 training accuracy \n",
    "loss_history, train_history, val_history = trainer.fit()"
   ]
  },
  {
   "cell_type": "markdown",
   "metadata": {},
   "source": [
    "Теперь найдем гипепараметры, для которых этот процесс сходится быстрее.\n",
    "Если все реализовано корректно, то существуют параметры, при которых процесс сходится в **20** эпох или еще быстрее.\n",
    "Найдите их!"
   ]
  },
  {
   "cell_type": "code",
   "execution_count": 26,
   "metadata": {
    "ExecuteTime": {
     "end_time": "2021-06-12T13:12:34.910221Z",
     "start_time": "2021-06-12T13:12:34.553836Z"
    }
   },
   "outputs": [
    {
     "name": "stdout",
     "output_type": "stream",
     "text": [
      "Loss: 2.305078, Train accuracy: 0.266667, val accuracy: 0.000000\n",
      "Loss: 2.282237, Train accuracy: 0.200000, val accuracy: 0.066667\n",
      "Loss: 2.252409, Train accuracy: 0.200000, val accuracy: 0.066667\n",
      "Loss: 2.196786, Train accuracy: 0.400000, val accuracy: 0.000000\n",
      "Loss: 2.052759, Train accuracy: 0.400000, val accuracy: 0.000000\n",
      "Loss: 1.813794, Train accuracy: 0.400000, val accuracy: 0.000000\n",
      "Loss: 2.230779, Train accuracy: 0.333333, val accuracy: 0.066667\n",
      "Loss: 2.133260, Train accuracy: 0.533333, val accuracy: 0.066667\n",
      "Loss: 1.710550, Train accuracy: 0.266667, val accuracy: 0.000000\n",
      "Loss: 1.559990, Train accuracy: 0.466667, val accuracy: 0.000000\n",
      "Loss: 1.561353, Train accuracy: 0.666667, val accuracy: 0.000000\n",
      "Loss: 1.126710, Train accuracy: 0.733333, val accuracy: 0.000000\n",
      "Loss: 1.008464, Train accuracy: 0.733333, val accuracy: 0.000000\n",
      "Loss: 1.084740, Train accuracy: 0.800000, val accuracy: 0.000000\n",
      "Loss: 0.689805, Train accuracy: 0.800000, val accuracy: 0.000000\n",
      "Loss: 0.533486, Train accuracy: 0.933333, val accuracy: 0.000000\n",
      "Loss: 0.432529, Train accuracy: 1.000000, val accuracy: 0.000000\n",
      "Loss: 0.350663, Train accuracy: 1.000000, val accuracy: 0.000000\n",
      "Loss: 0.256369, Train accuracy: 1.000000, val accuracy: 0.000000\n",
      "Loss: 0.176474, Train accuracy: 1.000000, val accuracy: 0.000000\n"
     ]
    }
   ],
   "source": [
    "# Now, tweak some hyper parameters and make it train to 1.0 accuracy in 20 epochs or less\n",
    "\n",
    "model = TwoLayerNet(n_input = train_X.shape[1], n_output = 10, hidden_layer_size = 100, reg = 1e-1)\n",
    "dataset = Dataset(train_X[:data_size], train_y[:data_size], val_X[:data_size], val_y[:data_size])\n",
    "# TODO: Change any hyperparamers or optimizators to reach training accuracy in 20 epochs\n",
    "trainer = Trainer(model, dataset, SGD(), learning_rate=3e-1, num_epochs=20, batch_size=5)\n",
    "\n",
    "loss_history, train_history, val_history = trainer.fit()"
   ]
  },
  {
   "cell_type": "markdown",
   "metadata": {},
   "source": [
    "# Итак, основное мероприятие!\n",
    "\n",
    "Натренируйте лучшую нейросеть! Можно добавлять и изменять параметры, менять количество нейронов в слоях сети и как угодно экспериментировать. \n",
    "\n",
    "Добейтесь точности лучше **60%** на validation set."
   ]
  },
  {
   "cell_type": "code",
   "execution_count": null,
   "metadata": {
    "scrolled": true
   },
   "outputs": [],
   "source": [
    "# Let's train the best one-hidden-layer network we can\n",
    "\n",
    "learning_rates = 3e-4\n",
    "reg_strength = 2e-3\n",
    "learning_rate_decay = 0.999\n",
    "hidden_layer_size = 128\n",
    "num_epochs = 200\n",
    "batch_size = 64\n",
    "\n",
    "best_classifier = None\n",
    "best_val_accuracy = None\n",
    "\n",
    "loss_history = []\n",
    "train_history = []\n",
    "val_history = []\n",
    "\n",
    "# TODO find the best hyperparameters to train the network\n",
    "# Don't hesitate to add new values to the arrays above, perform experiments, use any tricks you want\n",
    "# You should expect to get to at least 40% of valudation accuracy\n",
    "# Save loss/train/history of the best classifier to the variables above\n",
    "\n",
    "print('best validation accuracy achieved: %f' % best_val_accuracy)"
   ]
  },
  {
   "cell_type": "code",
   "execution_count": null,
   "metadata": {},
   "outputs": [],
   "source": [
    "plt.figure(figsize=(15, 7))\n",
    "plt.subplot(211)\n",
    "plt.title(\"Loss\")\n",
    "plt.plot(loss_history)\n",
    "plt.subplot(212)\n",
    "plt.title(\"Train/validation accuracy\")\n",
    "plt.plot(train_history)\n",
    "plt.plot(val_history)"
   ]
  },
  {
   "cell_type": "markdown",
   "metadata": {},
   "source": [
    "# Как обычно, посмотрим, как наша лучшая модель работает на тестовых данных"
   ]
  },
  {
   "cell_type": "code",
   "execution_count": null,
   "metadata": {},
   "outputs": [],
   "source": [
    "test_pred = best_classifier.predict(test_X)\n",
    "test_accuracy = multiclass_accuracy(test_pred, test_y)\n",
    "print('Neural net test set accuracy: %f' % (test_accuracy, ))"
   ]
  }
 ],
 "metadata": {
  "kernelspec": {
   "display_name": "Python 3",
   "language": "python",
   "name": "python3"
  },
  "language_info": {
   "codemirror_mode": {
    "name": "ipython",
    "version": 3
   },
   "file_extension": ".py",
   "mimetype": "text/x-python",
   "name": "python",
   "nbconvert_exporter": "python",
   "pygments_lexer": "ipython3",
   "version": "3.7.5"
  }
 },
 "nbformat": 4,
 "nbformat_minor": 2
}
