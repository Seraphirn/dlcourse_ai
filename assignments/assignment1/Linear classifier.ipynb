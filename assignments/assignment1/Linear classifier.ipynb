{
 "cells": [
  {
   "cell_type": "markdown",
   "metadata": {},
   "source": [
    "# Задание 1.2 - Линейный классификатор (Linear classifier)\n",
    "\n",
    "В этом задании мы реализуем другую модель машинного обучения - линейный классификатор. Линейный классификатор подбирает для каждого класса веса, на которые нужно умножить значение каждого признака и потом сложить вместе.\n",
    "Тот класс, у которого эта сумма больше, и является предсказанием модели.\n",
    "\n",
    "В этом задании вы:\n",
    "- потренируетесь считать градиенты различных многомерных функций\n",
    "- реализуете подсчет градиентов через линейную модель и функцию потерь softmax\n",
    "- реализуете процесс тренировки линейного классификатора\n",
    "- подберете параметры тренировки на практике\n",
    "\n",
    "На всякий случай, еще раз ссылка на туториал по numpy:  \n",
    "http://cs231n.github.io/python-numpy-tutorial/"
   ]
  },
  {
   "cell_type": "code",
   "execution_count": 1,
   "metadata": {
    "ExecuteTime": {
     "end_time": "2021-06-03T12:37:09.462452Z",
     "start_time": "2021-06-03T12:37:09.146565Z"
    }
   },
   "outputs": [],
   "source": [
    "import numpy as np\n",
    "import matplotlib.pyplot as plt\n",
    "\n",
    "%matplotlib inline\n",
    "\n",
    "%load_ext autoreload\n",
    "%autoreload 2"
   ]
  },
  {
   "cell_type": "code",
   "execution_count": 2,
   "metadata": {
    "ExecuteTime": {
     "end_time": "2021-06-03T12:37:10.254963Z",
     "start_time": "2021-06-03T12:37:10.175108Z"
    }
   },
   "outputs": [],
   "source": [
    "from dataset import load_svhn, random_split_train_val\n",
    "from gradient_check import check_gradient\n",
    "from metrics import multiclass_accuracy \n",
    "import linear_classifer"
   ]
  },
  {
   "cell_type": "markdown",
   "metadata": {},
   "source": [
    "# Как всегда, первым делом загружаем данные\n",
    "\n",
    "Мы будем использовать все тот же SVHN."
   ]
  },
  {
   "cell_type": "code",
   "execution_count": 4,
   "metadata": {
    "ExecuteTime": {
     "end_time": "2021-06-03T12:37:36.704875Z",
     "start_time": "2021-06-03T12:37:34.561312Z"
    }
   },
   "outputs": [],
   "source": [
    "def prepare_for_linear_classifier(train_X, test_X):\n",
    "    train_flat = train_X.reshape(train_X.shape[0], -1).astype(float) / 255.0\n",
    "    test_flat = test_X.reshape(test_X.shape[0], -1).astype(float) / 255.0\n",
    "\n",
    "    # Subtract mean\n",
    "    mean_image = np.mean(train_flat, axis = 0)\n",
    "    train_flat -= mean_image\n",
    "    test_flat -= mean_image\n",
    "\n",
    "    # Add another channel with ones as a bias term\n",
    "    train_flat_with_ones = np.hstack([train_flat, np.ones((train_X.shape[0], 1))])\n",
    "    test_flat_with_ones = np.hstack([test_flat, np.ones((test_X.shape[0], 1))])\n",
    "    return train_flat_with_ones, test_flat_with_ones\n",
    "\n",
    "train_X, train_y, test_X, test_y = load_svhn(\"data\", max_train=10000, max_test=1000)\n",
    "train_X, test_X = prepare_for_linear_classifier(train_X, test_X)\n",
    "# Split train into train and val\n",
    "train_X, train_y, val_X, val_y = random_split_train_val(train_X, train_y, num_val = 1000)"
   ]
  },
  {
   "cell_type": "markdown",
   "metadata": {},
   "source": [
    "# Играемся с градиентами!\n",
    "\n",
    "В этом курсе мы будем писать много функций, которые вычисляют градиенты аналитическим методом.\n",
    "\n",
    "Все функции, в которых мы будем вычислять градиенты, будут написаны по одной и той же схеме.\n",
    "Они будут получать на вход точку, где нужно вычислить значение и градиент функции, а на выходе будут выдавать кортеж (tuple) из двух значений - собственно значения функции в этой точке (всегда одно число) и аналитического значения градиента в той же точке (той же размерности, что и вход).\n",
    "```\n",
    "def f(x):\n",
    "    \"\"\"\n",
    "    Computes function and analytic gradient at x\n",
    "\n",
    "    x: np array of float, input to the function\n",
    "\n",
    "    Returns:\n",
    "    value: float, value of the function\n",
    "    grad: np array of float, same shape as x\n",
    "    \"\"\"\n",
    "    ...\n",
    "\n",
    "    return value, grad\n",
    "```\n",
    "\n",
    "Необходимым инструментом во время реализации кода, вычисляющего градиенты, является функция его проверки. Эта функция вычисляет градиент численным методом и сверяет результат с градиентом, вычисленным аналитическим методом.\n",
    "\n",
    "Мы начнем с того, чтобы реализовать вычисление численного градиента (numeric gradient) в функции `check_gradient` в `gradient_check.py`. Эта функция будет принимать на вход функции формата, заданного выше, использовать значение `value` для вычисления численного градиента и сравнит его с аналитическим - они должны сходиться.\n",
    "\n",
    "Напишите часть функции, которая вычисляет градиент с помощью численной производной для каждой координаты. Для вычисления производной используйте так называемую two-point formula (https://en.wikipedia.org/wiki/Numerical_differentiation):\n",
    "\n",
    "![image](https://wikimedia.org/api/rest_v1/media/math/render/svg/22fc2c0a66c63560a349604f8b6b39221566236d)\n",
    "\n",
    "Все функции приведенные в следующей клетке должны проходить gradient check."
   ]
  },
  {
   "cell_type": "code",
   "execution_count": 5,
   "metadata": {
    "ExecuteTime": {
     "end_time": "2021-06-03T12:37:39.646194Z",
     "start_time": "2021-06-03T12:37:39.628006Z"
    },
    "scrolled": true
   },
   "outputs": [
    {
     "name": "stdout",
     "output_type": "stream",
     "text": [
      "Gradient check passed!\n",
      "Gradient check passed!\n",
      "Gradient check passed!\n"
     ]
    },
    {
     "data": {
      "text/plain": [
       "True"
      ]
     },
     "execution_count": 5,
     "metadata": {},
     "output_type": "execute_result"
    }
   ],
   "source": [
    "# TODO: Implement check_gradient function in gradient_check.py\n",
    "# All the functions below should pass the gradient check\n",
    "\n",
    "def square(x):\n",
    "    return float(x*x), 2*x\n",
    "\n",
    "check_gradient(square, np.array([3.0]))\n",
    "\n",
    "def array_sum(x):\n",
    "    assert x.shape == (2,), x.shape\n",
    "    return np.sum(x), np.ones_like(x)\n",
    "\n",
    "check_gradient(array_sum, np.array([3.0, 2.0]))\n",
    "\n",
    "def array_2d_sum(x):\n",
    "    assert x.shape == (2,2)\n",
    "    return np.sum(x), np.ones_like(x)\n",
    "\n",
    "check_gradient(array_2d_sum, np.array([[3.0, 2.0], [1.0, 0.0]]))"
   ]
  },
  {
   "cell_type": "markdown",
   "metadata": {},
   "source": [
    "## Начинаем писать свои функции, считающие аналитический градиент\n",
    "\n",
    "Теперь реализуем функцию softmax, которая получает на вход оценки для каждого класса и преобразует их в вероятности от 0 до 1:\n",
    "![image](https://wikimedia.org/api/rest_v1/media/math/render/svg/e348290cf48ddbb6e9a6ef4e39363568b67c09d3)\n",
    "\n",
    "**Важно:** Практический аспект вычисления этой функции заключается в том, что в ней учавствует вычисление экспоненты от потенциально очень больших чисел - это может привести к очень большим значениям в числителе и знаменателе за пределами диапазона float.\n",
    "\n",
    "К счастью, у этой проблемы есть простое решение -- перед вычислением softmax вычесть из всех оценок максимальное значение среди всех оценок:\n",
    "```\n",
    "predictions -= np.max(predictions)\n",
    "```\n",
    "(подробнее здесь - http://cs231n.github.io/linear-classify/#softmax, секция `Practical issues: Numeric stability`)"
   ]
  },
  {
   "cell_type": "code",
   "execution_count": 6,
   "metadata": {
    "ExecuteTime": {
     "end_time": "2021-06-03T12:37:44.090476Z",
     "start_time": "2021-06-03T12:37:44.077665Z"
    }
   },
   "outputs": [],
   "source": [
    "# TODO Implement softmax and cross-entropy for single sample\n",
    "probs = linear_classifer.softmax(np.array([-10, 0, 10]))\n",
    "\n",
    "# Make sure it works for big numbers too!\n",
    "probs = linear_classifer.softmax(np.array([1000, 0, 0]))\n",
    "assert np.isclose(probs[0], 1.0)"
   ]
  },
  {
   "cell_type": "markdown",
   "metadata": {},
   "source": [
    "Кроме этого, мы реализуем cross-entropy loss, которую мы будем использовать как функцию ошибки (error function).\n",
    "В общем виде cross-entropy определена следующим образом:\n",
    "![image](https://wikimedia.org/api/rest_v1/media/math/render/svg/0cb6da032ab424eefdca0884cd4113fe578f4293)\n",
    "\n",
    "где x - все классы, p(x) - истинная вероятность принадлежности сэмпла классу x, а q(x) - вероятность принадлежности классу x, предсказанная моделью.  \n",
    "В нашем случае сэмпл принадлежит только одному классу, индекс которого передается функции. Для него p(x) равна 1, а для остальных классов - 0. \n",
    "\n",
    "Это позволяет реализовать функцию проще!"
   ]
  },
  {
   "cell_type": "code",
   "execution_count": 7,
   "metadata": {
    "ExecuteTime": {
     "end_time": "2021-06-03T12:37:46.354953Z",
     "start_time": "2021-06-03T12:37:46.334194Z"
    }
   },
   "outputs": [
    {
     "data": {
      "text/plain": [
       "5.006760443547122"
      ]
     },
     "execution_count": 7,
     "metadata": {},
     "output_type": "execute_result"
    }
   ],
   "source": [
    "probs = linear_classifer.softmax(np.array([-5, 0, 5]))\n",
    "linear_classifer.cross_entropy_loss(probs, 1)"
   ]
  },
  {
   "cell_type": "markdown",
   "metadata": {},
   "source": [
    "После того как мы реализовали сами функции, мы можем реализовать градиент.\n",
    "\n",
    "Оказывается, что вычисление градиента становится гораздо проще, если объединить эти функции в одну, которая сначала вычисляет вероятности через softmax, а потом использует их для вычисления функции ошибки через cross-entropy loss.\n",
    "\n",
    "Эта функция `softmax_with_cross_entropy` будет возвращает и значение ошибки, и градиент по входным параметрам. Мы проверим корректность реализации с помощью `check_gradient`."
   ]
  },
  {
   "cell_type": "code",
   "execution_count": 8,
   "metadata": {
    "ExecuteTime": {
     "end_time": "2021-06-03T12:37:49.133974Z",
     "start_time": "2021-06-03T12:37:49.117326Z"
    }
   },
   "outputs": [
    {
     "name": "stdout",
     "output_type": "stream",
     "text": [
      "Gradient check passed!\n"
     ]
    },
    {
     "data": {
      "text/plain": [
       "True"
      ]
     },
     "execution_count": 8,
     "metadata": {},
     "output_type": "execute_result"
    }
   ],
   "source": [
    "# TODO Implement combined function or softmax and cross entropy and produces gradient\n",
    "loss, grad = linear_classifer.softmax_with_cross_entropy(np.array([1, 0, 0]), 1)\n",
    "check_gradient(lambda x: linear_classifer.softmax_with_cross_entropy(x, 1), np.array([1, 0, 0], float))"
   ]
  },
  {
   "cell_type": "markdown",
   "metadata": {},
   "source": [
    "В качестве метода тренировки мы будем использовать стохастический градиентный спуск (stochastic gradient descent или SGD), который работает с батчами сэмплов. \n",
    "\n",
    "Поэтому все наши фукнции будут получать не один пример, а батч, то есть входом будет не вектор из `num_classes` оценок, а матрица размерности `batch_size, num_classes`. Индекс примера в батче всегда будет первым измерением.\n",
    "\n",
    "Следующий шаг - переписать наши функции так, чтобы они поддерживали батчи.\n",
    "\n",
    "Финальное значение функции ошибки должно остаться числом, и оно равно среднему значению ошибки среди всех примеров в батче."
   ]
  },
  {
   "cell_type": "code",
   "execution_count": 10,
   "metadata": {
    "ExecuteTime": {
     "end_time": "2021-06-03T12:38:26.983236Z",
     "start_time": "2021-06-03T12:38:26.961398Z"
    },
    "scrolled": false
   },
   "outputs": [
    {
     "name": "stdout",
     "output_type": "stream",
     "text": [
      "Gradient check passed!\n",
      "Gradient check passed!\n"
     ]
    }
   ],
   "source": [
    "# TODO Extend combined function so it can receive a 2d array with batch of samples\n",
    "np.random.seed(42)\n",
    "# Test batch_size = 1\n",
    "num_classes = 4\n",
    "batch_size = 1\n",
    "predictions = np.random.randint(-1, 3, size=(batch_size, num_classes)).astype(float)\n",
    "target_index = np.random.randint(0, num_classes, size=(batch_size)).astype(int)\n",
    "check_gradient(lambda x: linear_classifer.softmax_with_cross_entropy(x, target_index), predictions)\n",
    "\n",
    "# Test batch_size = 3\n",
    "num_classes = 4\n",
    "batch_size = 3\n",
    "predictions = np.random.randint(-1, 3, size=(batch_size, num_classes)).astype(float)\n",
    "target_index = np.random.randint(0, num_classes, size=(batch_size)).astype(int)\n",
    "check_gradient(lambda x: linear_classifer.softmax_with_cross_entropy(x, target_index), predictions)\n",
    "\n",
    "# Make sure maximum subtraction for numberic stability is done separately for every sample in the batch\n",
    "probs = linear_classifer.softmax(np.array([[20,0,0], [1000, 0, 0]]))\n",
    "assert np.all(np.isclose(probs[:, 0], 1.0))"
   ]
  },
  {
   "cell_type": "markdown",
   "metadata": {},
   "source": [
    "### Наконец, реализуем сам линейный классификатор!\n",
    "\n",
    "softmax и cross-entropy получают на вход оценки, которые выдает линейный классификатор.\n",
    "\n",
    "Он делает это очень просто: для каждого класса есть набор весов, на которые надо умножить пиксели картинки и сложить. Получившееся число и является оценкой класса, идущей на вход softmax.\n",
    "\n",
    "Таким образом, линейный классификатор можно представить как умножение вектора с пикселями на матрицу W размера `num_features, num_classes`. Такой подход легко расширяется на случай батча векторов с пикселями X размера `batch_size, num_features`:\n",
    "\n",
    "`predictions = X * W`, где `*` - матричное умножение.\n",
    "\n",
    "Реализуйте функцию подсчета линейного классификатора и градиентов по весам `linear_softmax` в файле `linear_classifer.py`"
   ]
  },
  {
   "cell_type": "code",
   "execution_count": 11,
   "metadata": {
    "ExecuteTime": {
     "end_time": "2021-06-03T13:16:49.351652Z",
     "start_time": "2021-06-03T13:16:49.329895Z"
    }
   },
   "outputs": [
    {
     "name": "stdout",
     "output_type": "stream",
     "text": [
      "Gradient check passed!\n"
     ]
    },
    {
     "data": {
      "text/plain": [
       "True"
      ]
     },
     "execution_count": 11,
     "metadata": {},
     "output_type": "execute_result"
    }
   ],
   "source": [
    "# TODO Implement linear_softmax function that uses softmax with cross-entropy for linear classifier\n",
    "batch_size = 2\n",
    "num_classes = 2\n",
    "num_features = 3\n",
    "np.random.seed(42)\n",
    "W = np.random.randint(-1, 3, size=(num_features, num_classes)).astype(float)\n",
    "X = np.random.randint(-1, 3, size=(batch_size, num_features)).astype(float)\n",
    "target_index = np.ones(batch_size, dtype=int)\n",
    "\n",
    "loss, dW = linear_classifer.linear_softmax(X, W, target_index)\n",
    "check_gradient(lambda w: linear_classifer.linear_softmax(X, w, target_index), W)"
   ]
  },
  {
   "cell_type": "markdown",
   "metadata": {},
   "source": [
    "### И теперь регуляризация\n",
    "\n",
    "Мы будем использовать L2 regularization для весов как часть общей функции ошибки.\n",
    "\n",
    "Напомним, L2 regularization определяется как\n",
    "\n",
    "l2_reg_loss = regularization_strength * sum<sub>ij</sub> W[i, j]<sup>2</sup>\n",
    "\n",
    "Реализуйте функцию для его вычисления и вычисления соотвествующих градиентов."
   ]
  },
  {
   "cell_type": "code",
   "execution_count": null,
   "metadata": {},
   "outputs": [],
   "source": [
    "# TODO Implement l2_regularization function that implements loss for L2 regularization\n",
    "linear_classifer.l2_regularization(W, 0.01)\n",
    "check_gradient(lambda w: linear_classifer.l2_regularization(w, 0.01), W)"
   ]
  },
  {
   "cell_type": "markdown",
   "metadata": {},
   "source": [
    "# Тренировка!"
   ]
  },
  {
   "cell_type": "markdown",
   "metadata": {},
   "source": [
    "Градиенты в порядке, реализуем процесс тренировки!"
   ]
  },
  {
   "cell_type": "code",
   "execution_count": 19,
   "metadata": {
    "ExecuteTime": {
     "end_time": "2021-06-03T14:02:15.902614Z",
     "start_time": "2021-06-03T14:02:13.832685Z"
    },
    "scrolled": false
   },
   "outputs": [
    {
     "name": "stdout",
     "output_type": "stream",
     "text": [
      "Epoch 0, loss: 2.397666\n",
      "Epoch 1, loss: 2.329962\n",
      "Epoch 2, loss: 2.310575\n",
      "Epoch 3, loss: 2.304244\n",
      "Epoch 4, loss: 2.302373\n",
      "Epoch 5, loss: 2.302109\n",
      "Epoch 6, loss: 2.302451\n",
      "Epoch 7, loss: 2.301396\n",
      "Epoch 8, loss: 2.302635\n",
      "Epoch 9, loss: 2.302110\n"
     ]
    }
   ],
   "source": [
    "# TODO: Implement LinearSoftmaxClassifier.fit function\n",
    "classifier = linear_classifer.LinearSoftmaxClassifier()\n",
    "loss_history = classifier.fit(train_X, train_y, epochs=10, learning_rate=1e-3, batch_size=300, reg=1e1)"
   ]
  },
  {
   "cell_type": "code",
   "execution_count": 20,
   "metadata": {
    "ExecuteTime": {
     "end_time": "2021-06-03T14:02:22.043549Z",
     "start_time": "2021-06-03T14:02:21.897745Z"
    }
   },
   "outputs": [
    {
     "data": {
      "text/plain": [
       "[<matplotlib.lines.Line2D at 0x7f4eacb5b150>]"
      ]
     },
     "execution_count": 20,
     "metadata": {},
     "output_type": "execute_result"
    },
    {
     "data": {
      "image/png": "[encoded data removed]",
      "text/plain": [
       "<Figure size 432x288 with 1 Axes>"
      ]
     },
     "metadata": {
      "needs_background": "light"
     },
     "output_type": "display_data"
    }
   ],
   "source": [
    "# let's look at the loss history!\n",
    "plt.plot(loss_history)"
   ]
  },
  {
   "cell_type": "code",
   "execution_count": 23,
   "metadata": {
    "ExecuteTime": {
     "end_time": "2021-06-03T14:12:23.641203Z",
     "start_time": "2021-06-03T14:11:59.734961Z"
    }
   },
   "outputs": [
    {
     "name": "stdout",
     "output_type": "stream",
     "text": [
      "Accuracy:  0.126\n",
      "Epoch 0, loss: 2.301489\n",
      "Epoch 1, loss: 2.301401\n",
      "Epoch 2, loss: 2.301218\n",
      "Epoch 3, loss: 2.301532\n",
      "Epoch 4, loss: 2.303023\n",
      "Epoch 5, loss: 2.302017\n",
      "Epoch 6, loss: 2.301387\n",
      "Epoch 7, loss: 2.301744\n",
      "Epoch 8, loss: 2.302303\n",
      "Epoch 9, loss: 2.301941\n",
      "Epoch 10, loss: 2.301229\n",
      "Epoch 11, loss: 2.302482\n",
      "Epoch 12, loss: 2.302373\n",
      "Epoch 13, loss: 2.301513\n",
      "Epoch 14, loss: 2.302127\n",
      "Epoch 15, loss: 2.302151\n",
      "Epoch 16, loss: 2.301923\n",
      "Epoch 17, loss: 2.302624\n",
      "Epoch 18, loss: 2.301534\n",
      "Epoch 19, loss: 2.301500\n",
      "Epoch 20, loss: 2.301506\n",
      "Epoch 21, loss: 2.301696\n",
      "Epoch 22, loss: 2.302569\n",
      "Epoch 23, loss: 2.303282\n",
      "Epoch 24, loss: 2.302124\n",
      "Epoch 25, loss: 2.302115\n",
      "Epoch 26, loss: 2.301429\n",
      "Epoch 27, loss: 2.301505\n",
      "Epoch 28, loss: 2.301348\n",
      "Epoch 29, loss: 2.302657\n",
      "Epoch 30, loss: 2.301783\n",
      "Epoch 31, loss: 2.302562\n",
      "Epoch 32, loss: 2.302092\n",
      "Epoch 33, loss: 2.302550\n",
      "Epoch 34, loss: 2.302417\n",
      "Epoch 35, loss: 2.302098\n",
      "Epoch 36, loss: 2.302304\n",
      "Epoch 37, loss: 2.301328\n",
      "Epoch 38, loss: 2.302717\n",
      "Epoch 39, loss: 2.301332\n",
      "Epoch 40, loss: 2.301717\n",
      "Epoch 41, loss: 2.301579\n",
      "Epoch 42, loss: 2.301526\n",
      "Epoch 43, loss: 2.302562\n",
      "Epoch 44, loss: 2.301621\n",
      "Epoch 45, loss: 2.302139\n",
      "Epoch 46, loss: 2.302353\n",
      "Epoch 47, loss: 2.302302\n",
      "Epoch 48, loss: 2.302456\n",
      "Epoch 49, loss: 2.301222\n",
      "Epoch 50, loss: 2.301744\n",
      "Epoch 51, loss: 2.301678\n",
      "Epoch 52, loss: 2.302230\n",
      "Epoch 53, loss: 2.302192\n",
      "Epoch 54, loss: 2.302017\n",
      "Epoch 55, loss: 2.302115\n",
      "Epoch 56, loss: 2.302599\n",
      "Epoch 57, loss: 2.301665\n",
      "Epoch 58, loss: 2.301994\n",
      "Epoch 59, loss: 2.301416\n",
      "Epoch 60, loss: 2.301690\n",
      "Epoch 61, loss: 2.301357\n",
      "Epoch 62, loss: 2.302354\n",
      "Epoch 63, loss: 2.302384\n",
      "Epoch 64, loss: 2.301799\n",
      "Epoch 65, loss: 2.302289\n",
      "Epoch 66, loss: 2.302153\n",
      "Epoch 67, loss: 2.302024\n",
      "Epoch 68, loss: 2.301934\n",
      "Epoch 69, loss: 2.303337\n",
      "Epoch 70, loss: 2.301354\n",
      "Epoch 71, loss: 2.302180\n",
      "Epoch 72, loss: 2.301956\n",
      "Epoch 73, loss: 2.301915\n",
      "Epoch 74, loss: 2.302347\n",
      "Epoch 75, loss: 2.301590\n",
      "Epoch 76, loss: 2.302166\n",
      "Epoch 77, loss: 2.301414\n",
      "Epoch 78, loss: 2.302871\n",
      "Epoch 79, loss: 2.302137\n",
      "Epoch 80, loss: 2.301465\n",
      "Epoch 81, loss: 2.301641\n",
      "Epoch 82, loss: 2.302257\n",
      "Epoch 83, loss: 2.302738\n",
      "Epoch 84, loss: 2.302164\n",
      "Epoch 85, loss: 2.302395\n",
      "Epoch 86, loss: 2.301316\n",
      "Epoch 87, loss: 2.302621\n",
      "Epoch 88, loss: 2.301743\n",
      "Epoch 89, loss: 2.302076\n",
      "Epoch 90, loss: 2.302406\n",
      "Epoch 91, loss: 2.301437\n",
      "Epoch 92, loss: 2.301887\n",
      "Epoch 93, loss: 2.302576\n",
      "Epoch 94, loss: 2.302586\n",
      "Epoch 95, loss: 2.301840\n",
      "Epoch 96, loss: 2.302048\n",
      "Epoch 97, loss: 2.302737\n",
      "Epoch 98, loss: 2.302709\n",
      "Epoch 99, loss: 2.301926\n",
      "Accuracy after training for 100 epochs:  0.127\n"
     ]
    }
   ],
   "source": [
    "# Let's check how it performs on validation set\n",
    "pred = classifier.predict(val_X)\n",
    "accuracy = multiclass_accuracy(pred, val_y)\n",
    "print(\"Accuracy: \", accuracy)\n",
    "\n",
    "# Now, let's train more and see if it performs better\n",
    "classifier.fit(train_X, train_y, epochs=100, learning_rate=1e-3, batch_size=300, reg=1e1)\n",
    "pred = classifier.predict(val_X)\n",
    "accuracy = multiclass_accuracy(pred, val_y)\n",
    "print(\"Accuracy after training for 100 epochs: \", accuracy)"
   ]
  },
  {
   "cell_type": "markdown",
   "metadata": {},
   "source": [
    "### Как и раньше, используем кросс-валидацию для подбора гиперпараметтов.\n",
    "\n",
    "В этот раз, чтобы тренировка занимала разумное время, мы будем использовать только одно разделение на тренировочные (training) и проверочные (validation) данные.\n",
    "\n",
    "Теперь нам нужно подобрать не один, а два гиперпараметра! Не ограничивайте себя изначальными значениями в коде.  \n",
    "Добейтесь точности более чем **20%** на проверочных данных (validation data)."
   ]
  },
  {
   "cell_type": "code",
   "execution_count": null,
   "metadata": {
    "ExecuteTime": {
     "start_time": "2021-06-03T14:26:58.855Z"
    }
   },
   "outputs": [
    {
     "name": "stdout",
     "output_type": "stream",
     "text": [
      "Epoch 0, loss: 2.302363\n",
      "Epoch 1, loss: 2.302365\n",
      "Epoch 2, loss: 2.300004\n",
      "Epoch 3, loss: 2.297631\n",
      "Epoch 4, loss: 2.299584\n",
      "Epoch 5, loss: 2.293699\n",
      "Epoch 6, loss: 2.295687\n",
      "Epoch 7, loss: 2.297529\n",
      "Epoch 8, loss: 2.293422\n",
      "Epoch 9, loss: 2.292074\n",
      "Epoch 10, loss: 2.292602\n",
      "Epoch 11, loss: 2.293773\n",
      "Epoch 12, loss: 2.291314\n",
      "Epoch 13, loss: 2.292956\n",
      "Epoch 14, loss: 2.293657\n",
      "Epoch 15, loss: 2.289274\n",
      "Epoch 16, loss: 2.288906\n",
      "Epoch 17, loss: 2.282300\n",
      "Epoch 18, loss: 2.288935\n",
      "Epoch 19, loss: 2.288506\n",
      "Epoch 20, loss: 2.286080\n",
      "Epoch 21, loss: 2.283508\n",
      "Epoch 22, loss: 2.284459\n",
      "Epoch 23, loss: 2.285010\n",
      "Epoch 24, loss: 2.286926\n",
      "Epoch 25, loss: 2.286426\n",
      "Epoch 26, loss: 2.283540\n",
      "Epoch 27, loss: 2.277239\n",
      "Epoch 28, loss: 2.276794\n",
      "Epoch 29, loss: 2.277729\n",
      "Epoch 30, loss: 2.273735\n",
      "Epoch 31, loss: 2.272648\n",
      "Epoch 32, loss: 2.281728\n",
      "Epoch 33, loss: 2.272385\n",
      "Epoch 34, loss: 2.270567\n",
      "Epoch 35, loss: 2.274542\n",
      "Epoch 36, loss: 2.275415\n",
      "Epoch 37, loss: 2.270476\n",
      "Epoch 38, loss: 2.265797\n",
      "Epoch 39, loss: 2.269015\n",
      "Epoch 40, loss: 2.266636\n",
      "Epoch 41, loss: 2.278781\n",
      "Epoch 42, loss: 2.266705\n",
      "Epoch 43, loss: 2.271859\n",
      "Epoch 44, loss: 2.268222\n",
      "Epoch 45, loss: 2.273143\n",
      "Epoch 46, loss: 2.266324\n",
      "Epoch 47, loss: 2.263180\n",
      "Epoch 48, loss: 2.270323\n",
      "Epoch 49, loss: 2.271310\n",
      "Epoch 50, loss: 2.268452\n",
      "Epoch 51, loss: 2.259901\n",
      "Epoch 52, loss: 2.270220\n",
      "Epoch 53, loss: 2.263104\n",
      "Epoch 54, loss: 2.260884\n",
      "Epoch 55, loss: 2.270068\n",
      "Epoch 56, loss: 2.255677\n",
      "Epoch 57, loss: 2.256442\n",
      "Epoch 58, loss: 2.260491\n",
      "Epoch 59, loss: 2.271165\n",
      "Epoch 60, loss: 2.266537\n",
      "Epoch 61, loss: 2.243319\n",
      "Epoch 62, loss: 2.254028\n",
      "Epoch 63, loss: 2.265466\n",
      "Epoch 64, loss: 2.254133\n",
      "Epoch 65, loss: 2.252585\n",
      "Epoch 66, loss: 2.257889\n",
      "Epoch 67, loss: 2.241616\n",
      "Epoch 68, loss: 2.255054\n",
      "Epoch 69, loss: 2.257105\n",
      "Epoch 70, loss: 2.252501\n",
      "Epoch 71, loss: 2.247007\n",
      "Epoch 72, loss: 2.241199\n",
      "Epoch 73, loss: 2.267462\n",
      "Epoch 74, loss: 2.247559\n",
      "Epoch 75, loss: 2.265329\n",
      "Epoch 76, loss: 2.243046\n",
      "Epoch 77, loss: 2.247199\n",
      "Epoch 78, loss: 2.241151\n",
      "Epoch 79, loss: 2.231702\n",
      "Epoch 80, loss: 2.243956\n",
      "Epoch 81, loss: 2.218524\n",
      "Epoch 82, loss: 2.250403\n",
      "Epoch 83, loss: 2.254864\n",
      "Epoch 84, loss: 2.245968\n",
      "Epoch 85, loss: 2.240949\n",
      "Epoch 86, loss: 2.243660\n",
      "Epoch 87, loss: 2.242739\n",
      "Epoch 88, loss: 2.248677\n",
      "Epoch 89, loss: 2.238883\n",
      "Epoch 90, loss: 2.250192\n",
      "Epoch 91, loss: 2.243904\n",
      "Epoch 92, loss: 2.232569\n",
      "Epoch 93, loss: 2.250976\n",
      "Epoch 94, loss: 2.238136\n",
      "Epoch 95, loss: 2.260798\n",
      "Epoch 96, loss: 2.240688\n",
      "Epoch 97, loss: 2.238003\n",
      "Epoch 98, loss: 2.247890\n",
      "Epoch 99, loss: 2.232535\n",
      "Epoch 100, loss: 2.247093\n",
      "Epoch 101, loss: 2.228274\n",
      "Epoch 102, loss: 2.236698\n",
      "Epoch 103, loss: 2.215186\n",
      "Epoch 104, loss: 2.218092\n",
      "Epoch 105, loss: 2.231672\n",
      "Epoch 106, loss: 2.229143\n",
      "Epoch 107, loss: 2.214827\n",
      "Epoch 108, loss: 2.222443\n",
      "Epoch 109, loss: 2.241665\n",
      "Epoch 110, loss: 2.218763\n",
      "Epoch 111, loss: 2.231263\n",
      "Epoch 112, loss: 2.231257\n",
      "Epoch 113, loss: 2.230038\n",
      "Epoch 114, loss: 2.208021\n",
      "Epoch 115, loss: 2.231558\n",
      "Epoch 116, loss: 2.226097\n",
      "Epoch 117, loss: 2.210241\n",
      "Epoch 118, loss: 2.246025\n",
      "Epoch 119, loss: 2.233159\n",
      "Epoch 120, loss: 2.228776\n",
      "Epoch 121, loss: 2.232666\n",
      "Epoch 122, loss: 2.211108\n",
      "Epoch 123, loss: 2.236868\n",
      "Epoch 124, loss: 2.202298\n",
      "Epoch 125, loss: 2.210358\n",
      "Epoch 126, loss: 2.209809\n",
      "Epoch 127, loss: 2.243139\n",
      "Epoch 128, loss: 2.201883\n",
      "Epoch 129, loss: 2.214109\n",
      "Epoch 130, loss: 2.243503\n",
      "Epoch 131, loss: 2.217269\n",
      "Epoch 132, loss: 2.232170\n",
      "Epoch 133, loss: 2.222510\n",
      "Epoch 134, loss: 2.233578\n",
      "Epoch 135, loss: 2.207668\n",
      "Epoch 136, loss: 2.210452\n",
      "Epoch 137, loss: 2.231446\n",
      "Epoch 138, loss: 2.215332\n",
      "Epoch 139, loss: 2.242696\n",
      "Epoch 140, loss: 2.216289\n",
      "Epoch 141, loss: 2.232749\n",
      "Epoch 142, loss: 2.246856\n",
      "Epoch 143, loss: 2.205143\n",
      "Epoch 144, loss: 2.225264\n",
      "Epoch 145, loss: 2.223097\n",
      "Epoch 146, loss: 2.192213\n",
      "Epoch 147, loss: 2.219870\n",
      "Epoch 148, loss: 2.236011\n",
      "Epoch 149, loss: 2.208829\n",
      "Epoch 150, loss: 2.229906\n",
      "Epoch 151, loss: 2.208673\n",
      "Epoch 152, loss: 2.188842\n",
      "Epoch 153, loss: 2.216549\n",
      "Epoch 154, loss: 2.212044\n",
      "Epoch 155, loss: 2.217744\n",
      "Epoch 156, loss: 2.214924\n",
      "Epoch 157, loss: 2.207634\n",
      "Epoch 158, loss: 2.232048\n",
      "Epoch 159, loss: 2.203571\n",
      "Epoch 160, loss: 2.218956\n",
      "Epoch 161, loss: 2.227473\n",
      "Epoch 162, loss: 2.216387\n",
      "Epoch 163, loss: 2.224622\n",
      "Epoch 164, loss: 2.187653\n",
      "Epoch 165, loss: 2.217108\n",
      "Epoch 166, loss: 2.190848\n",
      "Epoch 167, loss: 2.225501\n",
      "Epoch 168, loss: 2.217051\n",
      "Epoch 169, loss: 2.213358\n",
      "Epoch 170, loss: 2.208573\n",
      "Epoch 171, loss: 2.197108\n",
      "Epoch 172, loss: 2.210027\n",
      "Epoch 173, loss: 2.239560\n",
      "Epoch 174, loss: 2.229960\n",
      "Epoch 175, loss: 2.218618\n",
      "Epoch 176, loss: 2.211245\n",
      "Epoch 177, loss: 2.217661\n",
      "Epoch 178, loss: 2.236922\n",
      "Epoch 179, loss: 2.208172\n",
      "Epoch 180, loss: 2.179751\n",
      "Epoch 181, loss: 2.187031\n",
      "Epoch 182, loss: 2.213064\n",
      "Epoch 183, loss: 2.200114\n",
      "Epoch 184, loss: 2.214160\n",
      "Epoch 185, loss: 2.202804\n",
      "Epoch 186, loss: 2.231211\n",
      "Epoch 187, loss: 2.206260\n",
      "Epoch 188, loss: 2.214558\n",
      "Epoch 189, loss: 2.219000\n",
      "Epoch 190, loss: 2.188712\n",
      "Epoch 191, loss: 2.213731\n",
      "Epoch 192, loss: 2.214801\n",
      "Epoch 193, loss: 2.240229\n",
      "Epoch 194, loss: 2.208336\n",
      "Epoch 195, loss: 2.206582\n",
      "Epoch 196, loss: 2.207891\n",
      "Epoch 197, loss: 2.211353\n",
      "Epoch 198, loss: 2.183357\n",
      "Epoch 199, loss: 2.220928\n",
      "Epoch 0, loss: 2.301959\n",
      "Epoch 1, loss: 2.303195\n",
      "Epoch 2, loss: 2.302655\n",
      "Epoch 3, loss: 2.302438\n",
      "Epoch 4, loss: 2.303446\n",
      "Epoch 5, loss: 2.303342\n",
      "Epoch 6, loss: 2.301724\n",
      "Epoch 7, loss: 2.302137\n",
      "Epoch 8, loss: 2.301862\n",
      "Epoch 9, loss: 2.302785\n",
      "Epoch 10, loss: 2.301732\n",
      "Epoch 11, loss: 2.302948\n",
      "Epoch 12, loss: 2.301146\n",
      "Epoch 13, loss: 2.301425\n",
      "Epoch 14, loss: 2.300673\n",
      "Epoch 15, loss: 2.301671\n",
      "Epoch 16, loss: 2.301188\n",
      "Epoch 17, loss: 2.300316\n",
      "Epoch 18, loss: 2.301261\n",
      "Epoch 19, loss: 2.301832\n",
      "Epoch 20, loss: 2.300000\n",
      "Epoch 21, loss: 2.300762\n",
      "Epoch 22, loss: 2.300410\n",
      "Epoch 23, loss: 2.299722\n",
      "Epoch 24, loss: 2.300518\n",
      "Epoch 25, loss: 2.299957\n",
      "Epoch 26, loss: 2.299784\n",
      "Epoch 27, loss: 2.299444\n",
      "Epoch 28, loss: 2.301317\n",
      "Epoch 29, loss: 2.300537\n",
      "Epoch 30, loss: 2.300748\n",
      "Epoch 31, loss: 2.299930\n",
      "Epoch 32, loss: 2.301439\n",
      "Epoch 33, loss: 2.299225\n",
      "Epoch 34, loss: 2.300162\n",
      "Epoch 35, loss: 2.299279\n",
      "Epoch 36, loss: 2.299798\n",
      "Epoch 37, loss: 2.298965\n",
      "Epoch 38, loss: 2.299292\n",
      "Epoch 39, loss: 2.300476\n",
      "Epoch 40, loss: 2.299759\n",
      "Epoch 41, loss: 2.299601\n",
      "Epoch 42, loss: 2.298250\n",
      "Epoch 43, loss: 2.299741\n",
      "Epoch 44, loss: 2.296238\n",
      "Epoch 45, loss: 2.300278\n",
      "Epoch 46, loss: 2.297796\n",
      "Epoch 47, loss: 2.298401\n",
      "Epoch 48, loss: 2.297637\n",
      "Epoch 49, loss: 2.299805\n",
      "Epoch 50, loss: 2.296210\n",
      "Epoch 51, loss: 2.297965\n",
      "Epoch 52, loss: 2.298078\n",
      "Epoch 53, loss: 2.296771\n",
      "Epoch 54, loss: 2.298961\n",
      "Epoch 55, loss: 2.298412\n",
      "Epoch 56, loss: 2.296342\n",
      "Epoch 57, loss: 2.299203\n",
      "Epoch 58, loss: 2.295588\n",
      "Epoch 59, loss: 2.297126\n",
      "Epoch 60, loss: 2.297878\n",
      "Epoch 61, loss: 2.299457\n",
      "Epoch 62, loss: 2.297325\n",
      "Epoch 63, loss: 2.296480\n",
      "Epoch 64, loss: 2.295282\n",
      "Epoch 65, loss: 2.296687\n",
      "Epoch 66, loss: 2.294086\n",
      "Epoch 67, loss: 2.294856\n",
      "Epoch 68, loss: 2.294456\n",
      "Epoch 69, loss: 2.293587\n",
      "Epoch 70, loss: 2.296028\n",
      "Epoch 71, loss: 2.291335\n",
      "Epoch 72, loss: 2.294758\n",
      "Epoch 73, loss: 2.295913\n",
      "Epoch 74, loss: 2.295580\n",
      "Epoch 75, loss: 2.297510\n",
      "Epoch 76, loss: 2.294235\n",
      "Epoch 77, loss: 2.296139\n",
      "Epoch 78, loss: 2.300340\n",
      "Epoch 79, loss: 2.295642\n",
      "Epoch 80, loss: 2.294056\n",
      "Epoch 81, loss: 2.294918\n",
      "Epoch 82, loss: 2.294748\n",
      "Epoch 83, loss: 2.293635\n",
      "Epoch 84, loss: 2.293451\n",
      "Epoch 85, loss: 2.295106\n",
      "Epoch 86, loss: 2.296143\n",
      "Epoch 87, loss: 2.293478\n",
      "Epoch 88, loss: 2.294545\n",
      "Epoch 89, loss: 2.294402\n",
      "Epoch 90, loss: 2.292493\n",
      "Epoch 91, loss: 2.295823\n",
      "Epoch 92, loss: 2.294080\n",
      "Epoch 93, loss: 2.293559\n",
      "Epoch 94, loss: 2.292548\n",
      "Epoch 95, loss: 2.288958\n",
      "Epoch 96, loss: 2.293299\n",
      "Epoch 97, loss: 2.292551\n",
      "Epoch 98, loss: 2.293807\n",
      "Epoch 99, loss: 2.292957\n",
      "Epoch 100, loss: 2.294516\n",
      "Epoch 101, loss: 2.294328\n",
      "Epoch 102, loss: 2.290069\n",
      "Epoch 103, loss: 2.291287\n",
      "Epoch 104, loss: 2.296269\n",
      "Epoch 105, loss: 2.295182\n",
      "Epoch 106, loss: 2.290182\n",
      "Epoch 107, loss: 2.288700\n",
      "Epoch 108, loss: 2.296790\n",
      "Epoch 109, loss: 2.289934\n",
      "Epoch 110, loss: 2.296105\n",
      "Epoch 111, loss: 2.288639\n",
      "Epoch 112, loss: 2.292065\n",
      "Epoch 113, loss: 2.292576\n",
      "Epoch 114, loss: 2.290433\n",
      "Epoch 115, loss: 2.295876\n",
      "Epoch 116, loss: 2.291783\n",
      "Epoch 117, loss: 2.293182\n",
      "Epoch 118, loss: 2.293305\n",
      "Epoch 119, loss: 2.295315\n",
      "Epoch 120, loss: 2.291293\n",
      "Epoch 121, loss: 2.290407\n",
      "Epoch 122, loss: 2.291085\n",
      "Epoch 123, loss: 2.292145\n",
      "Epoch 124, loss: 2.286943\n"
     ]
    },
    {
     "name": "stdout",
     "output_type": "stream",
     "text": [
      "Epoch 125, loss: 2.293116\n",
      "Epoch 126, loss: 2.293016\n",
      "Epoch 127, loss: 2.293580\n",
      "Epoch 128, loss: 2.288045\n",
      "Epoch 129, loss: 2.293338\n",
      "Epoch 130, loss: 2.293805\n",
      "Epoch 131, loss: 2.293490\n",
      "Epoch 132, loss: 2.292906\n",
      "Epoch 133, loss: 2.288791\n",
      "Epoch 134, loss: 2.291018\n",
      "Epoch 135, loss: 2.292674\n",
      "Epoch 136, loss: 2.293250\n",
      "Epoch 137, loss: 2.290178\n",
      "Epoch 138, loss: 2.288861\n",
      "Epoch 139, loss: 2.292198\n",
      "Epoch 140, loss: 2.291158\n",
      "Epoch 141, loss: 2.289811\n",
      "Epoch 142, loss: 2.287888\n",
      "Epoch 143, loss: 2.294377\n",
      "Epoch 144, loss: 2.290832\n",
      "Epoch 145, loss: 2.286496\n",
      "Epoch 146, loss: 2.293483\n",
      "Epoch 147, loss: 2.292386\n",
      "Epoch 148, loss: 2.287922\n",
      "Epoch 149, loss: 2.290738\n",
      "Epoch 150, loss: 2.291733\n",
      "Epoch 151, loss: 2.292089\n",
      "Epoch 152, loss: 2.289193\n",
      "Epoch 153, loss: 2.291306\n",
      "Epoch 154, loss: 2.293873\n",
      "Epoch 155, loss: 2.291432\n",
      "Epoch 156, loss: 2.289962\n",
      "Epoch 157, loss: 2.293782\n",
      "Epoch 158, loss: 2.283311\n",
      "Epoch 159, loss: 2.289858\n",
      "Epoch 160, loss: 2.287909\n",
      "Epoch 161, loss: 2.285833\n",
      "Epoch 162, loss: 2.287480\n",
      "Epoch 163, loss: 2.288946\n",
      "Epoch 164, loss: 2.286856\n",
      "Epoch 165, loss: 2.290099\n",
      "Epoch 166, loss: 2.285865\n",
      "Epoch 167, loss: 2.290348\n",
      "Epoch 168, loss: 2.289743\n",
      "Epoch 169, loss: 2.288458\n",
      "Epoch 170, loss: 2.288324\n",
      "Epoch 171, loss: 2.285039\n",
      "Epoch 172, loss: 2.285822\n",
      "Epoch 173, loss: 2.291083\n",
      "Epoch 174, loss: 2.288499\n",
      "Epoch 175, loss: 2.292332\n",
      "Epoch 176, loss: 2.283240\n",
      "Epoch 177, loss: 2.289509\n",
      "Epoch 178, loss: 2.285001\n",
      "Epoch 179, loss: 2.284144\n",
      "Epoch 180, loss: 2.291608\n",
      "Epoch 181, loss: 2.283554\n",
      "Epoch 182, loss: 2.284388\n",
      "Epoch 183, loss: 2.282087\n",
      "Epoch 184, loss: 2.289080\n",
      "Epoch 185, loss: 2.280172\n",
      "Epoch 186, loss: 2.282170\n",
      "Epoch 187, loss: 2.285229\n",
      "Epoch 188, loss: 2.289205\n",
      "Epoch 189, loss: 2.285235\n",
      "Epoch 190, loss: 2.287031\n",
      "Epoch 191, loss: 2.281674\n",
      "Epoch 192, loss: 2.283943\n",
      "Epoch 193, loss: 2.291677\n",
      "Epoch 194, loss: 2.286767\n",
      "Epoch 195, loss: 2.286609\n",
      "Epoch 196, loss: 2.288243\n",
      "Epoch 197, loss: 2.286455\n",
      "Epoch 198, loss: 2.289977\n",
      "Epoch 199, loss: 2.285356\n",
      "Epoch 0, loss: 2.302021\n",
      "Epoch 1, loss: 2.302605\n",
      "Epoch 2, loss: 2.302270\n",
      "Epoch 3, loss: 2.301908\n",
      "Epoch 4, loss: 2.302322\n",
      "Epoch 5, loss: 2.302170\n",
      "Epoch 6, loss: 2.301527\n",
      "Epoch 7, loss: 2.302504\n",
      "Epoch 8, loss: 2.302692\n",
      "Epoch 9, loss: 2.303311\n",
      "Epoch 10, loss: 2.302225\n",
      "Epoch 11, loss: 2.302804\n",
      "Epoch 12, loss: 2.302377\n",
      "Epoch 13, loss: 2.303450\n",
      "Epoch 14, loss: 2.302868\n",
      "Epoch 15, loss: 2.303086\n",
      "Epoch 16, loss: 2.301756\n",
      "Epoch 17, loss: 2.302387\n",
      "Epoch 18, loss: 2.303055\n",
      "Epoch 19, loss: 2.303152\n",
      "Epoch 20, loss: 2.302391\n",
      "Epoch 21, loss: 2.301836\n",
      "Epoch 22, loss: 2.302777\n",
      "Epoch 23, loss: 2.303045\n",
      "Epoch 24, loss: 2.301711\n",
      "Epoch 25, loss: 2.302992\n",
      "Epoch 26, loss: 2.301800\n",
      "Epoch 27, loss: 2.302458\n",
      "Epoch 28, loss: 2.303369\n",
      "Epoch 29, loss: 2.302556\n",
      "Epoch 30, loss: 2.302104\n",
      "Epoch 31, loss: 2.302314\n",
      "Epoch 32, loss: 2.302929\n",
      "Epoch 33, loss: 2.303182\n",
      "Epoch 34, loss: 2.301456\n",
      "Epoch 35, loss: 2.301727\n",
      "Epoch 36, loss: 2.301377\n",
      "Epoch 37, loss: 2.302861\n",
      "Epoch 38, loss: 2.301636\n",
      "Epoch 39, loss: 2.301679\n",
      "Epoch 40, loss: 2.302823\n",
      "Epoch 41, loss: 2.302222\n",
      "Epoch 42, loss: 2.303201\n",
      "Epoch 43, loss: 2.302146\n",
      "Epoch 44, loss: 2.302638\n",
      "Epoch 45, loss: 2.302098\n",
      "Epoch 46, loss: 2.302278\n",
      "Epoch 47, loss: 2.301867\n",
      "Epoch 48, loss: 2.302645\n",
      "Epoch 49, loss: 2.302537\n",
      "Epoch 50, loss: 2.300944\n",
      "Epoch 51, loss: 2.302217\n",
      "Epoch 52, loss: 2.301904\n",
      "Epoch 53, loss: 2.301235\n",
      "Epoch 54, loss: 2.302211\n",
      "Epoch 55, loss: 2.302616\n",
      "Epoch 56, loss: 2.301822\n",
      "Epoch 57, loss: 2.302345\n",
      "Epoch 58, loss: 2.301754\n",
      "Epoch 59, loss: 2.301958\n",
      "Epoch 60, loss: 2.302417\n",
      "Epoch 61, loss: 2.302855\n",
      "Epoch 62, loss: 2.301719\n",
      "Epoch 63, loss: 2.301954\n",
      "Epoch 64, loss: 2.302249\n",
      "Epoch 65, loss: 2.302219\n",
      "Epoch 66, loss: 2.301998\n",
      "Epoch 67, loss: 2.301440\n",
      "Epoch 68, loss: 2.302051\n",
      "Epoch 69, loss: 2.302515\n",
      "Epoch 70, loss: 2.302172\n",
      "Epoch 71, loss: 2.301948\n",
      "Epoch 72, loss: 2.302539\n",
      "Epoch 73, loss: 2.301453\n",
      "Epoch 74, loss: 2.301919\n",
      "Epoch 75, loss: 2.301079\n",
      "Epoch 76, loss: 2.302221\n",
      "Epoch 77, loss: 2.300686\n",
      "Epoch 78, loss: 2.301109\n",
      "Epoch 79, loss: 2.301837\n",
      "Epoch 80, loss: 2.302109\n",
      "Epoch 81, loss: 2.302294\n",
      "Epoch 82, loss: 2.301908\n",
      "Epoch 83, loss: 2.300624\n",
      "Epoch 84, loss: 2.301703\n",
      "Epoch 85, loss: 2.300672\n",
      "Epoch 86, loss: 2.300872\n",
      "Epoch 87, loss: 2.301382\n",
      "Epoch 88, loss: 2.302023\n",
      "Epoch 89, loss: 2.303405\n",
      "Epoch 90, loss: 2.301104\n",
      "Epoch 91, loss: 2.303179\n",
      "Epoch 92, loss: 2.301253\n",
      "Epoch 93, loss: 2.301177\n",
      "Epoch 94, loss: 2.300859\n",
      "Epoch 95, loss: 2.301562\n",
      "Epoch 96, loss: 2.301306\n",
      "Epoch 97, loss: 2.301682\n",
      "Epoch 98, loss: 2.302389\n",
      "Epoch 99, loss: 2.302409\n",
      "Epoch 100, loss: 2.302217\n",
      "Epoch 101, loss: 2.300921\n",
      "Epoch 102, loss: 2.302366\n",
      "Epoch 103, loss: 2.300766\n",
      "Epoch 104, loss: 2.301743\n",
      "Epoch 105, loss: 2.302248\n",
      "Epoch 106, loss: 2.302561\n",
      "Epoch 107, loss: 2.301612\n",
      "Epoch 108, loss: 2.301350\n",
      "Epoch 109, loss: 2.301563\n",
      "Epoch 110, loss: 2.301898\n",
      "Epoch 111, loss: 2.301954\n",
      "Epoch 112, loss: 2.301765\n",
      "Epoch 113, loss: 2.299873\n",
      "Epoch 114, loss: 2.301377\n",
      "Epoch 115, loss: 2.302137\n",
      "Epoch 116, loss: 2.300528\n",
      "Epoch 117, loss: 2.301920\n",
      "Epoch 118, loss: 2.301726\n",
      "Epoch 119, loss: 2.300327\n",
      "Epoch 120, loss: 2.301048\n",
      "Epoch 121, loss: 2.302547\n",
      "Epoch 122, loss: 2.301346\n",
      "Epoch 123, loss: 2.300609\n",
      "Epoch 124, loss: 2.300879\n",
      "Epoch 125, loss: 2.301603\n",
      "Epoch 126, loss: 2.301496\n",
      "Epoch 127, loss: 2.301641\n",
      "Epoch 128, loss: 2.302548\n",
      "Epoch 129, loss: 2.301230\n",
      "Epoch 130, loss: 2.300983\n",
      "Epoch 131, loss: 2.301141\n",
      "Epoch 132, loss: 2.301388\n",
      "Epoch 133, loss: 2.302512\n",
      "Epoch 134, loss: 2.301779\n",
      "Epoch 135, loss: 2.302732\n",
      "Epoch 136, loss: 2.301422\n",
      "Epoch 137, loss: 2.301313\n",
      "Epoch 138, loss: 2.300453\n",
      "Epoch 139, loss: 2.302430\n",
      "Epoch 140, loss: 2.302448\n",
      "Epoch 141, loss: 2.300259\n",
      "Epoch 142, loss: 2.301180\n",
      "Epoch 143, loss: 2.302281\n"
     ]
    }
   ],
   "source": [
    "best_classifier = None\n",
    "best_val_accuracy = None\n",
    "for lrate, reg_str in zip(learning_rates, reg_strengths):\n",
    "\n",
    "    classifier = linear_classifer.LinearSoftmaxClassifier()\n",
    "    loss_history = classifier.fit(train_X, train_y, epochs=num_epochs,\n",
    "                                  learning_rate=lrate, batch_size=batch_size,\n",
    "                                  reg=reg_str)\n",
    "    pred = classifier.predict(val_X)\n",
    "    accuracy = multiclass_accuracy(pred, val_y)\n",
    "    if best_val_accuracy is None or best_val_accuracy < accuracy:\n",
    "        best_classifier = classifier\n",
    "        best_val_accuracy = accuracy\n",
    "\n",
    "print('best validation accuracy achieved: %f' % best_val_accuracy)\n"
   ]
  },
  {
   "cell_type": "markdown",
   "metadata": {},
   "source": [
    "# Какой же точности мы добились на тестовых данных?"
   ]
  },
  {
   "cell_type": "code",
   "execution_count": null,
   "metadata": {},
   "outputs": [],
   "source": [
    "test_pred = best_classifier.predict(test_X)\n",
    "test_accuracy = multiclass_accuracy(test_pred, test_y)\n",
    "print('Linear softmax classifier test set accuracy: %f' % (test_accuracy, ))"
   ]
  }
 ],
 "metadata": {
  "kernelspec": {
   "display_name": "Python 3",
   "language": "python",
   "name": "python3"
  },
  "language_info": {
   "codemirror_mode": {
    "name": "ipython",
    "version": 3
   },
   "file_extension": ".py",
   "mimetype": "text/x-python",
   "name": "python",
   "nbconvert_exporter": "python",
   "pygments_lexer": "ipython3",
   "version": "3.7.5"
  }
 },
 "nbformat": 4,
 "nbformat_minor": 2
}
